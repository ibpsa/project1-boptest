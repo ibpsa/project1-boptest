{
 "cells": [
  {
   "cell_type": "code",
   "execution_count": 4,
   "metadata": {},
   "outputs": [],
   "source": [
    "from rdflib import Graph, Namespace, URIRef"
   ]
  },
  {
   "cell_type": "code",
   "execution_count": null,
   "metadata": {},
   "outputs": [],
   "source": [
    "filename = 'semantic-model.ttl'"
   ]
  },
  {
   "cell_type": "code",
   "execution_count": 6,
   "metadata": {},
   "outputs": [],
   "source": [
    "g = Graph()\n",
    "g.parse(filename, format = 'ttl')\n",
    "BLDG = Namespace(\"https://BESTESTAir.urn#\")\n",
    "BR = Namespace(\"https://boptest-rules.urn#\")\n",
    "BRICK = Namespace(\"https://brickschema.org/schema/Brick#\")\n",
    "g.bind('bldg',BLDG)"
   ]
  },
  {
   "cell_type": "code",
   "execution_count": 7,
   "metadata": {},
   "outputs": [],
   "source": [
    "pointOfquery = \"\"\"\n",
    "PREFIX brick: <https://brickschema.org/schema/Brick#> \n",
    "PREFIX boptestrules: <https://boptest-rules.urn#>\n",
    "CONSTRUCT {\n",
    "    ?part brick:hasPoint ?point .\n",
    "}\n",
    "WHERE {\n",
    "    ?point boptestrules:pointOf ?type .\n",
    "    ?parent brick:hasPart ?part .\n",
    "    ?part a ?type .\n",
    "}\n",
    "\"\"\""
   ]
  },
  {
   "cell_type": "code",
   "execution_count": 8,
   "metadata": {},
   "outputs": [],
   "source": [
    "construct = g.query(pointOfquery)\n",
    "g = g + construct.graph"
   ]
  },
  {
   "cell_type": "code",
   "execution_count": 9,
   "metadata": {},
   "outputs": [
    {
     "name": "stdout",
     "output_type": "stream",
     "text": [
      "@prefix brick: <https://brickschema.org/schema/Brick#> .\n",
      "\n",
      "<https://BESTESTAir.urn#fcu_fan> brick:hasPoint <https://BESTESTAir.urn#fcu_oveFan>,\n",
      "        <https://BESTESTAir.urn#fcu_reaPFan> .\n",
      "\n",
      "\n"
     ]
    }
   ],
   "source": [
    "print(construct.graph.serialize(format = 'ttl'))"
   ]
  },
  {
   "cell_type": "code",
   "execution_count": 10,
   "metadata": {},
   "outputs": [
    {
     "name": "stdout",
     "output_type": "stream",
     "text": [
      "Keeper:  https://BESTESTAir.urn#con  | Remover:  https://BESTESTAir.urn#con_Thermostat_T\n",
      "fake points:  https://BESTESTAir.urn#con_Thermostat_T_oveTSetHea\n",
      "fake points:  https://BESTESTAir.urn#con_Thermostat_T_oveTSetCoo\n"
     ]
    },
    {
     "ename": "NameError",
     "evalue": "name 'hasPart_pred' is not defined",
     "output_type": "error",
     "traceback": [
      "\u001b[0;31m---------------------------------------------------------------------------\u001b[0m",
      "\u001b[0;31mNameError\u001b[0m                                 Traceback (most recent call last)",
      "Cell \u001b[0;32mIn[10], line 11\u001b[0m\n\u001b[1;32m      9\u001b[0m     g\u001b[38;5;241m.\u001b[39mremove((remover, hasPoint_pred, fake_points))\n\u001b[1;32m     10\u001b[0m g\u001b[38;5;241m.\u001b[39mremove((keeper, sameAs_pred, remover))\n\u001b[0;32m---> 11\u001b[0m g\u001b[38;5;241m.\u001b[39mremove((remover, \u001b[43mhasPart_pred\u001b[49m, fake_parts))\n\u001b[1;32m     12\u001b[0m g\u001b[38;5;241m.\u001b[39mremove((remover, hasPoint_pred, fake_points))\n",
      "\u001b[0;31mNameError\u001b[0m: name 'hasPart_pred' is not defined"
     ]
    }
   ],
   "source": [
    "# getting rid of all references to the sameAs point, or the weird points it creates.\n",
    "for keeper, sameAs_pred, remover in g.triples((None, BR['sameAs'], None)):\n",
    "    print('Keeper: ',keeper,' | Remover: ', remover)\n",
    "    for remover, hasPoint_pred, fake_points in g.triples((URIRef(remover), BRICK['hasPoint'], None)):\n",
    "        print('fake points: ', fake_points)\n",
    "        g.remove((remover, hasPoint_pred, fake_points))\n",
    "    for remover, hasPart_pred, fake_parts in g.triples((URIRef(remover), BRICK['hasPart'], None)):\n",
    "        print('fake parts: ', fake_parts)\n",
    "        g.remove((remover, hasPoint_pred, fake_points))\n",
    "    g.remove((keeper, sameAs_pred, remover))\n",
    "    g.remove((remover, hasPart_pred, fake_parts))\n",
    "    g.remove((remover, hasPoint_pred, fake_points))\n",
    "    "
   ]
  },
  {
   "cell_type": "code",
   "execution_count": null,
   "metadata": {},
   "outputs": [],
   "source": [
    "# Adding thermostat points to zone based on location\n",
    "query = \"\"\"\n",
    "PREFIX brick: <https://brickschema.org/schema/Brick#>\n",
    "\n",
    "CONSTRUCT {\n",
    "    ?zon brick:hasPoint ?obj .\n",
    "}\n",
    "WHERE {\n",
    "    ?tstat a brick:Thermostat ;\n",
    "        brick:hasPoint ?obj ;\n",
    "        brick:hasLocation|^brick:isLocationOf ?zon .\n",
    "    ?zon a brick:Zone .\n",
    "}\n",
    "\n",
    "\"\"\"\n",
    "res = g.query(query)"
   ]
  },
  {
   "cell_type": "code",
   "execution_count": null,
   "metadata": {},
   "outputs": [],
   "source": [
    "g = g + res.graph"
   ]
  },
  {
   "cell_type": "code",
   "execution_count": null,
   "metadata": {},
   "outputs": [
    {
     "name": "stdout",
     "output_type": "stream",
     "text": [
      "@prefix bldg: <https://BESTESTAir.urn#> .\n",
      "@prefix boptestrules: <https://boptest-rules.urn#> .\n",
      "@prefix brick: <https://brickschema.org/schema/Brick#> .\n",
      "@prefix literal: <https://literal_values.urn#> .\n",
      "@prefix quantitykind: <http://qudt.org/vocab/quantitykind/> .\n",
      "@prefix qudt: <http://qudt.org/schema/qudt/> .\n",
      "@prefix ref: <https://brickschema.org/schema/Brick/ref#> .\n",
      "@prefix xsd: <http://www.w3.org/2001/XMLSchema#> .\n",
      "\n",
      "bldg:fcu a brick:FCU ;\n",
      "    brick:feeds bldg:zon ;\n",
      "    brick:hasPart bldg:fcu_fan ;\n",
      "    brick:hasPoint bldg:fcu_oveFan,\n",
      "        bldg:fcu_oveTSup,\n",
      "        bldg:fcu_reaFloSup,\n",
      "        bldg:fcu_reaPCoo,\n",
      "        bldg:fcu_reaPFan,\n",
      "        bldg:fcu_reaPHea .\n",
      "\n",
      "bldg:con a brick:Thermostat ;\n",
      "    brick:hasPoint bldg:con_oveTSetCoo,\n",
      "        bldg:con_oveTSetHea .\n",
      "\n",
      "bldg:con_oveTSetCoo_Reference a ref:BOPTestReference ;\n",
      "    ref:activate literal:con_oveTSetCoo_activate ;\n",
      "    ref:description literal:description ;\n",
      "    ref:isWritable true ;\n",
      "    ref:max literal:max ;\n",
      "    ref:min literal:min ;\n",
      "    ref:name literal:con_oveTSetCoo_u ;\n",
      "    ref:unit literal:K .\n",
      "\n",
      "bldg:con_oveTSetHea_Reference a ref:BOPTestReference ;\n",
      "    ref:activate literal:con_oveTSetHea_activate ;\n",
      "    ref:description literal:description ;\n",
      "    ref:isWritable true ;\n",
      "    ref:max literal:max ;\n",
      "    ref:min literal:min ;\n",
      "    ref:name literal:con_oveTSetHea_u ;\n",
      "    ref:unit literal:K .\n",
      "\n",
      "bldg:fcu_fan a brick:Supply_Fan ;\n",
      "    brick:hasPoint bldg:fcu_oveFan,\n",
      "        bldg:fcu_reaPFan .\n",
      "\n",
      "bldg:fcu_oveFan_Reference a ref:BOPTestReference ;\n",
      "    ref:activate literal:fcu_oveFan_activate ;\n",
      "    ref:isWritable true ;\n",
      "    ref:name literal:fcu_oveFan_u .\n",
      "\n",
      "bldg:fcu_oveTSup a brick:Supply_Air_Temperature_Setpoint ;\n",
      "    qudt:hasQuantityKind quantitykind:Temperature ;\n",
      "    qudt:hasUnit qudt:K ;\n",
      "    ref:hasExternalReference bldg:fcu_oveTSup_Reference .\n",
      "\n",
      "bldg:fcu_oveTSup_Reference a ref:BOPTestReference ;\n",
      "    ref:activate literal:fcu_oveTSup_activate ;\n",
      "    ref:isWritable true ;\n",
      "    ref:name literal:fcu_oveTSup_u .\n",
      "\n",
      "bldg:fcu_reaFloSup a brick:Supply_Air_Flow_Sensor ;\n",
      "    qudt:hasQuantityKind quantitykind:MassFlowRate ;\n",
      "    qudt:hasUnit qudt:KiloGM-PER-SEC ;\n",
      "    ref:hasExternalReference bldg:fcu_reaFloSup_Reference .\n",
      "\n",
      "bldg:fcu_reaFloSup_Reference a ref:BOPTestReference ;\n",
      "    ref:isWritable false ;\n",
      "    ref:name literal:fcu_reaFloSup_y .\n",
      "\n",
      "bldg:fcu_reaPCoo a brick:Electric_Power_Sensor ;\n",
      "    qudt:hasQuantityKind quantitykind:ElectricPower ;\n",
      "    qudt:hasUnit qudt:W ;\n",
      "    ref:hasExternalReference bldg:fcu_reaPCoo_Reference .\n",
      "\n",
      "bldg:fcu_reaPCoo_Reference a ref:BOPTestReference ;\n",
      "    ref:isWritable false ;\n",
      "    ref:name literal:fcu_reaPCoo_y .\n",
      "\n",
      "bldg:fcu_reaPFan_Reference a ref:BOPTestReference ;\n",
      "    ref:isWritable false ;\n",
      "    ref:name literal:fcu_reaPFan_y .\n",
      "\n",
      "bldg:fcu_reaPHea a brick:Heating_Thermal_Power_Sensor ;\n",
      "    qudt:hasQuantityKind quantitykind:ElectricPower ;\n",
      "    qudt:hasUnit qudt:W ;\n",
      "    ref:hasExternalReference bldg:fcu_reaPHea_Reference .\n",
      "\n",
      "bldg:fcu_reaPHea_Reference a ref:BOPTestReference ;\n",
      "    ref:isWritable false ;\n",
      "    ref:name literal:fcu_reaPHea_y .\n",
      "\n",
      "bldg:zon a brick:Zone ;\n",
      "    brick:hasPoint bldg:con_oveTSetCoo,\n",
      "        bldg:con_oveTSetHea ;\n",
      "    brick:isLocationOf bldg:con .\n",
      "\n",
      "bldg:con_oveTSetCoo a brick:Zone_Air_Cooling_Temperature_Setpoint ;\n",
      "    qudt:hasQuantityKind quantitykind:Temperature ;\n",
      "    qudt:hasUnit qudt:K ;\n",
      "    ref:hasExternalReference bldg:con_oveTSetCoo_Reference .\n",
      "\n",
      "bldg:con_oveTSetHea a brick:Zone_Air_Heating_Temperature_Setpoint ;\n",
      "    qudt:hasQuantityKind quantitykind:Temperature ;\n",
      "    qudt:hasUnit qudt:K ;\n",
      "    ref:hasExternalReference bldg:con_oveTSetHea_Reference .\n",
      "\n",
      "bldg:fcu_oveFan a brick:Fan_Command ;\n",
      "    qudt:hasQuantityKind quantitykind:Temperature ;\n",
      "    qudt:hasUnit qudt:K ;\n",
      "    boptestrules:pointOf brick:Supply_Fan ;\n",
      "    ref:hasExternalReference bldg:fcu_oveFan_Reference .\n",
      "\n",
      "bldg:fcu_reaPFan a brick:Electric_Power_Sensor ;\n",
      "    qudt:hasQuantityKind quantitykind:ElectricPower ;\n",
      "    qudt:hasUnit qudt:W ;\n",
      "    boptestrules:pointOf brick:Supply_Fan ;\n",
      "    ref:hasExternalReference bldg:fcu_reaPFan_Reference .\n",
      "\n",
      "\n"
     ]
    }
   ],
   "source": [
    "print(g.serialize())"
   ]
  },
  {
   "cell_type": "code",
   "execution_count": null,
   "metadata": {},
   "outputs": [
    {
     "data": {
      "text/plain": [
       "<Graph identifier=N5b98e8afded94db88ef50a0e801e8c84 (<class 'rdflib.graph.Graph'>)>"
      ]
     },
     "execution_count": 36,
     "metadata": {},
     "output_type": "execute_result"
    }
   ],
   "source": [
    "g.serialize('post-processed-model.ttl', format = 'ttl')"
   ]
  },
  {
   "cell_type": "code",
   "execution_count": null,
   "metadata": {},
   "outputs": [],
   "source": [
    "# Example of Zone Rule"
   ]
  },
  {
   "cell_type": "code",
   "execution_count": 12,
   "metadata": {},
   "outputs": [
    {
     "data": {
      "text/plain": [
       "<Graph identifier=N1137e9b3829e407182b7253480db064d (<class 'rdflib.graph.Graph'>)>"
      ]
     },
     "execution_count": 12,
     "metadata": {},
     "output_type": "execute_result"
    }
   ],
   "source": [
    "g = Graph()\n",
    "zone_example = \"\"\"\n",
    "@prefix bldg: <https://BESTESTAir.urn#> .\n",
    "@prefix boptestrules: <https://boptest-rules.urn#> .\n",
    "@prefix brick: <https://brickschema.org/schema/Brick#> .\n",
    "@prefix literal: <https://literal_values.urn#> .\n",
    "@prefix quantitykind: <http://qudt.org/vocab/quantitykind/> .\n",
    "@prefix qudt: <http://qudt.org/schema/qudt/> .\n",
    "@prefix ref: <https://brickschema.org/schema/Brick/ref#> .\n",
    "@prefix xsd: <http://www.w3.org/2001/XMLSchema#> .\n",
    "\n",
    "    bldg:ex a brick:Zone_Air_Temperature;\n",
    "\n",
    "          ref:hasExternalReference bldg:ex_Reference;\n",
    "\n",
    "          qudt:hasQuantityKind quantitykind:Temperature;\n",
    "\n",
    "          qudt:hasUnit qudt:K.\n",
    "\n",
    "    bldg:ex_Reference a ref:BOPTestReference;\n",
    "\n",
    "          ref:name literal:ex_y;\n",
    "\n",
    "          ref:description literal:description;\n",
    "\n",
    "          ref:zone literal:zone;\n",
    "\n",
    "          ref:unit literal:K;\n",
    "\n",
    "          ref:isWritable false.\n",
    "\"\"\"\n",
    "g.parse(data=zone_example, format=\"turtle\")"
   ]
  },
  {
   "cell_type": "code",
   "execution_count": null,
   "metadata": {},
   "outputs": [],
   "source": [
    "ofZoneQuery = \"\"\"\n",
    "\n",
    "\"\"\""
   ]
  }
 ],
 "metadata": {
  "kernelspec": {
   "display_name": "Python 3",
   "language": "python",
   "name": "python3"
  },
  "language_info": {
   "codemirror_mode": {
    "name": "ipython",
    "version": 3
   },
   "file_extension": ".py",
   "mimetype": "text/x-python",
   "name": "python",
   "nbconvert_exporter": "python",
   "pygments_lexer": "ipython3",
   "version": "3.8.10"
  }
 },
 "nbformat": 4,
 "nbformat_minor": 2
}
