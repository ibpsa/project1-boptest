{
  "cells": [
    {
      "cell_type": "markdown",
      "metadata": {
        "id": "view-in-github",
        "colab_type": "text"
      },
      "source": [
        "<a href=\"https://colab.research.google.com/github/JavierArroyoBastida/project1-boptest/blob/issue552_bs2023/docs/workshops/BS23Workshop_20230904/Introduction_to_the_BOPTEST_framework_BS2023.ipynb\" target=\"_parent\"><img src=\"https://colab.research.google.com/assets/colab-badge.svg\" alt=\"Open In Colab\"/></a>"
      ]
    },
    {
      "cell_type": "markdown",
      "metadata": {
        "id": "UmPqk-NTH5Qt"
      },
      "source": [
        "**Goals and Outline**\n",
        "\n",
        "This is an introductory, hands-on tutorial to guide you through usage of the Building Optimization Testing (BOPTEST) framework for performance benchmarking of control algorithms.  \n",
        "The tutorial is split into the following parts:\n",
        "\n",
        "- Part 1: (Presentation) Introduction to the BOPTEST Project, Goals, and Approach\n",
        "- Part 2: (Exercise) Introduction to the BOPTEST API and Sample Controller Testing\n",
        "- Part 3: (Exercise) Learning BOPTEST-Gym: the OpenAI-Gym interface of BOPTEST\n",
        "- Part 4: Wrap-Up and Continued Usage\n",
        "\n",
        "This tutorial was prepared for use with BOPTEST v0.4.0.\n",
        "and will make usage of a web-based version of BOPTEST (called \"BOPTEST-Service\") so as not to require installation of any BOPTEST software on a user's own device.  Users are invited to also deploy BOPTEST on a user's own (local) device.  Both the web-based and local versions have the same functionality, and will produce the same results given the same version BOPTEST, with only small changes in the API.\n",
        "\n",
        "\n"
      ]
    },
    {
      "cell_type": "markdown",
      "metadata": {
        "id": "3Ofjiy_aQjmG"
      },
      "source": [
        "\n",
        "\n",
        "---\n",
        "\n",
        "\n",
        "\n",
        "---\n",
        "\n",
        "\n",
        "\n",
        "\n"
      ]
    },
    {
      "cell_type": "markdown",
      "metadata": {
        "id": "FVmlH0jVPOpl"
      },
      "source": [
        "# **Part 1: (Presentation) Introduction to the BOPTEST Project, Goals, and Approach**\n"
      ]
    },
    {
      "cell_type": "markdown",
      "metadata": {
        "id": "0JIIEGa0QDfj"
      },
      "source": [
        "The BOPTEST framework enables the performance evaluation and benchmarking of advanced control algorithms for building HVAC control.  Software is developed and is available on the BOPTEST GitHub respository at [https://github.com/ibpsa/project1-boptest](https://github.com/ibpsa/project1-boptest), while more information on the project in general can be found at the project home page at [https://ibpsa.github.io/project1-boptest/](https://ibpsa.github.io/project1-boptest/).\n",
        "\n",
        "An introduction to the BOPTEST project, goals, and approach is given in the accompanying presentation *Introduction to the Building Optimization Testing Framework (BOPTEST)*."
      ]
    },
    {
      "cell_type": "markdown",
      "metadata": {
        "id": "f0XKBslSYbFr"
      },
      "source": [
        "---"
      ]
    },
    {
      "cell_type": "markdown",
      "metadata": {
        "id": "7DzxoICmQr5x"
      },
      "source": [
        "# **Part 2: (Exercise) Introduction to the BOPTEST API and Sample Controller Testing**"
      ]
    },
    {
      "cell_type": "markdown",
      "metadata": {
        "id": "qDs5BsW-RzMd"
      },
      "source": [
        "\n",
        "\n",
        "Now that we have an understanding of the BOPTEST project and framework approach, this exercise:\n",
        "\n",
        "- 2.1. Explains how to select a BOPTEST test case.\n",
        "- 2.2. Explores the BOPTEST API.\n",
        "- 2.3. Develops a simple example feedback controller to evaluate.\n",
        "\n",
        "As described in Part 1, BOPTEST test cases are developed as FMU's and deployed within a containerized environment using the [Docker](https://www.docker.com/) software with:\n",
        "\n",
        "*   A detailed emulator building model.\n",
        "*   Yearly boundary condition data for weather, schedules, pricing, and emission factors. These data are representative of the building location.\n",
        "*   An API that allows for, among other things, initializing a simulation or testing scenario, advancing a simulation with a control input, receiving forecast data, receiving emulator data, and receiving computed KPIs.  The full API is described [here](https://github.com/ibpsa/project1-boptest/tree/boptest-service#test-case-restful-api).\n",
        "\n",
        "The basic workflow to test a controller is:\n",
        "\n",
        "1.   Select a test case from the menu of those available.\n",
        "2.   Select one of the standadized testing scenarios defined for the given test case.\n",
        "3.   Set parameters for the interaction with your test controller, such as the control step.  \n",
        "4.   Run the test case scenario in a co-simulation loop with your controller.\n",
        "5.   Request the KPIs and evaluate your controller's performance.\n",
        "\n"
      ]
    },
    {
      "cell_type": "markdown",
      "metadata": {
        "id": "_3suztPl8UV-"
      },
      "source": [
        "## Selecting a Test Case\n"
      ]
    },
    {
      "cell_type": "markdown",
      "metadata": {
        "id": "jGBsMgoabG_i"
      },
      "source": [
        "\n",
        "We start by selecting and launching a test case from the [repository of currently available test cases](https://ibpsa.github.io/project1-boptest/testcases/index.html).  In this example, we are going to work with the test case called `bestest_hydronic_heat_pump`, which is a single-zone residential building with radiant floor heating and a heat pump. This is a high-fidelity, yet, relatively simple test case that allows us to focus on fundamental aspects of the framework.  You may want to note the other test cases available in the repository as well as the fact that there are more under development.  \n",
        "\n",
        "We can launch our chosen test case as follows.  First, import the Python `requests` library so that we can make HTTP requests to the BOPTEST API at the address indicated by the `url`.  Then, use the `POST /testcases/<test_case_name>/select` BOPTEST API endpoint to launch the test case and receive a corresponding `testid`.  While the `url` is the common gateway for everyone to access the BOPTEST web-service, the `testid` is a unique identifier for you to address the test case that you have selected and launched.   "
      ]
    },
    {
      "cell_type": "code",
      "execution_count": 1,
      "metadata": {
        "id": "z_ACm1rcn2pt"
      },
      "outputs": [],
      "source": [
        "import requests\n",
        "\n",
        "# url for the BOPTEST service\n",
        "url = 'https://api.boptest.net'\n",
        "\n",
        "# Select test case and get identifier\n",
        "testcase = 'bestest_hydronic_heat_pump'\n",
        "# Check if already started a test case and stop it if so before starting another\n",
        "try:\n",
        "  requests.put('{0}/stop/{1}'.format(url, testid))\n",
        "except:\n",
        "  pass\n",
        "# Select and start a new test case\n",
        "testid = \\\n",
        "requests.post('{0}/testcases/{1}/select'.format(url,testcase)).json()['testid']\n"
      ]
    },
    {
      "cell_type": "markdown",
      "metadata": {
        "id": "Y5rUwmAcp27l"
      },
      "source": [
        "Once you have successfully obtained the `testid`, it is possible to start interacting with your selected test case using the rest of the BOPTEST API.  You will need this `testid` for all further interactions with this test case.  For example, use the `GET /name` BOPTEST API endpoint, along with your `testid`, to request the name of your test case and check that it matches the one we want."
      ]
    },
    {
      "cell_type": "code",
      "execution_count": 2,
      "metadata": {
        "colab": {
          "base_uri": "https://localhost:8080/"
        },
        "id": "gEVOjOdgpTuS",
        "outputId": "f4b61b7b-b64f-43b5-dc47-e4da2b70a426"
      },
      "outputs": [
        {
          "output_type": "stream",
          "name": "stdout",
          "text": [
            "{'name': 'bestest_hydronic_heat_pump'}\n"
          ]
        }
      ],
      "source": [
        "# Get test case name\n",
        "name = requests.get('{0}/name/{1}'.format(url, testid)).json()['payload']\n",
        "print(name)\n"
      ]
    },
    {
      "cell_type": "markdown",
      "metadata": {
        "id": "ShI2rXTD2DJx"
      },
      "source": [
        "With our unique `testid` in-hand and having some practice using the BOPTEST API, we are ready to move on to exploring the API further.\n",
        "\n",
        "Note that the test case will timeout after 15 minutes of no requests.  If the test case times out, you can simply select and start a new one by repeating the steps described above."
      ]
    },
    {
      "cell_type": "markdown",
      "metadata": {
        "id": "6SS_OIn6aVCH"
      },
      "source": [
        "## Exploring the API\n",
        "\n"
      ]
    },
    {
      "cell_type": "markdown",
      "metadata": {
        "id": "CR75-VKMn3nZ"
      },
      "source": [
        "### Building Information\n",
        "\n",
        "The first thing we want to do is learn about the building and system that we want to control.  All building information can be found under \"detailed documentation\" link provided with the each [test case on the home page](https://ibpsa.github.io/project1-boptest/testcases/ibpsa/testcases_ibpsa_bestest_hydronic_heat_pump/).  For archived versions, it can be found in the documentation folder of the specific test case within the [repository](https://github.com/ibpsa/project1-boptest/tree/master/testcases) at: `/<testcasename>/doc/index.html`.  To access this file on your own, we recommend downloading the repository and opening the file in a web-browser.\n",
        "This file includes a description of the building envelope, the HVAC system design, the functioning of the baseline controller, available control inputs and measurement outputs, and available testing scenarios.  Understanding how the system works is an important practice for control design, so take as much time as needed to understand the equipment, the points that can be measured, and the points that can be overwritten by your controller.\n",
        "We briefly summarize the `bestest_hydronic_heat_pump` case here for completeness, but it is strongly recommended to have a deeper look into the documentation.\n",
        "\n",
        "The building represents a residential dwelling of 192 $m^2$ for a family of 5 members.\n",
        "An air-to-water modulating heat pump of 15 $kW$ nominal heating capacity extracts energy from the ambient air to heat up the floor heating emission system, as shown in the figure below.\n",
        "An evaporator fan blows ambient air through the heat pump evaporator when the heat pump is operating.\n",
        "The floor heating system injects heat into the floor using water as the working fluid.\n",
        "\n",
        "\n"
      ]
    },
    {
      "cell_type": "markdown",
      "metadata": {
        "id": "OCgg0ZThq3jP"
      },
      "source": [
        "![](https://drive.google.com/uc?export=view&id=1qAYEhwR3J8uABtmxmNeMetBWbGieLFcx)\n",
        "\n",
        "*Figure 1: Schematic of HVAC system and control for the `bestest_hydronic_heat_pump` test case.*\n",
        "\n",
        "\n"
      ]
    },
    {
      "cell_type": "markdown",
      "metadata": {
        "id": "zWFdCafzrEoX"
      },
      "source": [
        "A baseline controller is embedded in every test case emulator that is meant to be representative of a typical controller for that type of building.  The baseline controller includes local loop control such that supervisory set points may be the focus of a test controller, although many of those local loop control signals are also available for overwriting if a user chooses.  The baseline controller can also be considered an initial benchmark for control performance.\n",
        "\n",
        "In our selected test case, the baseline controller consists of a PI controller with the zone operative temperature as the controlled variable and the heat pump modulation signal for compressor frequency as the control variable, as depicted as C1 in Figure 1 above and shown in Figure 2 below.\n",
        "The control variable is limited between 0 and 1, and it is computed to drive the zone operative temperature towards its set point, which is defined as a function of the occupancy schedule.\n",
        "\n"
      ]
    },
    {
      "cell_type": "markdown",
      "metadata": {
        "id": "wnlCi15prLrW"
      },
      "source": [
        "\n",
        "![](https://drive.google.com/uc?export=view&id=1OC1ihYSdU3YUU7nKlqUwnzcbRyXxBtRu)\n",
        "\n",
        "*Figure 2: Primary PI controller C1.*\n",
        "\n",
        "\n"
      ]
    },
    {
      "cell_type": "markdown",
      "metadata": {
        "id": "0wnkkdIqrNHu"
      },
      "source": [
        "All other equipment (fan for the heat pump evaporator circuit and floor heating emission system pump) are switched on when the heat pump is working (modulating signal higher than 0) and switched off otherwise.  This is depicted in Figure 1 as controller C2."
      ]
    },
    {
      "cell_type": "markdown",
      "metadata": {
        "id": "7Xlo32C67vBL"
      },
      "source": [
        "### Getting Control Input and Measurement Points\n",
        "While control input and measurement points are described in the documentation, they are also available to retreive from the BOPTEST API.  This is especially useful to store for later when requesting data for a specific point.\n",
        "\n",
        "Retrieve the control input and measurement outputs using the `GET /inputs` and `GET /measurements` BOPTEST API endpoints."
      ]
    },
    {
      "cell_type": "code",
      "execution_count": 3,
      "metadata": {
        "colab": {
          "base_uri": "https://localhost:8080/"
        },
        "id": "s3juiw8s1hH-",
        "outputId": "cc663127-e3b2-4845-97bb-479c8d99929e"
      },
      "outputs": [
        {
          "output_type": "stream",
          "name": "stdout",
          "text": [
            "TEST CASE INPUTS ---------------------------------------------\n",
            "dict_keys(['oveTSet_activate', 'ovePum_activate', 'ovePum_u', 'oveHeaPumY_u', 'oveTSet_u', 'oveHeaPumY_activate', 'oveFan_activate', 'oveFan_u'])\n",
            "TEST CASE MEASUREMENTS ---------------------------------------\n",
            "dict_keys(['weaSta_reaWeaPAtm_y', 'reaPFan_y', 'reaQHeaPumCon_y', 'reaTRet_y', 'weaSta_reaWeaNOpa_y', 'weaSta_reaWeaTBlaSky_y', 'reaQHeaPumEva_y', 'weaSta_reaWeaNTot_y', 'weaSta_reaWeaSolAlt_y', 'reaTZon_y', 'weaSta_reaWeaHHorIR_y', 'weaSta_reaWeaLon_y', 'weaSta_reaWeaSolTim_y', 'weaSta_reaWeaCloTim_y', 'reaPPumEmi_y', 'weaSta_reaWeaHGloHor_y', 'weaSta_reaWeaHDifHor_y', 'weaSta_reaWeaRelHum_y', 'reaTSetHea_y', 'reaCO2RooAir_y', 'weaSta_reaWeaSolDec_y', 'reaPHeaPum_y', 'weaSta_reaWeaHDirNor_y', 'reaTSetCoo_y', 'weaSta_reaWeaWinDir_y', 'reaTSup_y', 'weaSta_reaWeaSolZen_y', 'reaQFloHea_y', 'reaCOP_y', 'weaSta_reaWeaTDryBul_y', 'weaSta_reaWeaTWetBul_y', 'weaSta_reaWeaTDewPoi_y', 'weaSta_reaWeaWinSpe_y', 'weaSta_reaWeaLat_y', 'weaSta_reaWeaCeiHei_y', 'weaSta_reaWeaSolHouAng_y'])\n"
          ]
        }
      ],
      "source": [
        "# Get inputs available\n",
        "inputs = requests.get('{0}/inputs/{1}'.format(url, testid)).json()['payload']\n",
        "print('TEST CASE INPUTS ---------------------------------------------')\n",
        "print(inputs.keys())\n",
        "# Get measurements available\n",
        "print('TEST CASE MEASUREMENTS ---------------------------------------')\n",
        "measurements = requests.get('{0}/measurements/{1}'.format(url, testid)).json()['payload']\n",
        "print(measurements.keys())"
      ]
    },
    {
      "cell_type": "markdown",
      "metadata": {
        "id": "nmhgHsgL2ADY"
      },
      "source": [
        "The naming convention is such that the extension `_y` indicates a measurement point, `_u` indicates the value of an input which can be overwritten by a test controller, and `_activate` indicates the enabling (with value 0 or 1) of a test controller to overwrite the corresponding input value.\n",
        "Hence, `<varname>_u` is enabled for overwriting by the test controller when `<varname>_activate=1`.\n",
        "`weaSta_` indicates a measurement for a weather point, so that historical weather data can be easily retrieved.\n",
        "\n",
        "Notice that the jsons returned from the `GET /inputs` and `GET /measurements` BOPTEST API endpoints also include a description and unit of each variable, as well as the minimum and maximum value for inputs variables:\n"
      ]
    },
    {
      "cell_type": "code",
      "execution_count": 4,
      "metadata": {
        "colab": {
          "base_uri": "https://localhost:8080/"
        },
        "id": "KXFpXuqv3t9Z",
        "outputId": "c22bc689-3590-48d7-8976-37a09a78535a"
      },
      "outputs": [
        {
          "output_type": "stream",
          "name": "stdout",
          "text": [
            "Description: Heat pump modulating signal for compressor speed between 0 (not working) and 1 (working at maximum capacity)\n",
            "Unit: 1\n",
            "Minimum: 0\n",
            "Maximum: 1\n"
          ]
        }
      ],
      "source": [
        "print('Description: {}'.format(inputs['oveHeaPumY_u']['Description']))\n",
        "print('Unit: {}'.format(inputs['oveHeaPumY_u']['Unit']))\n",
        "print('Minimum: {}'.format(inputs['oveHeaPumY_u']['Minimum']))\n",
        "print('Maximum: {}'.format(inputs['oveHeaPumY_u']['Maximum']))"
      ]
    },
    {
      "cell_type": "code",
      "execution_count": 5,
      "metadata": {
        "colab": {
          "base_uri": "https://localhost:8080/"
        },
        "id": "9D_0KmXj4AWq",
        "outputId": "3f17d05e-b9f8-498b-d8f6-e542eebc4ca4"
      },
      "outputs": [
        {
          "output_type": "stream",
          "name": "stdout",
          "text": [
            "Description: Zone operative temperature\n",
            "Unit: K\n"
          ]
        }
      ],
      "source": [
        "print('Description: {}'.format(measurements['reaTZon_y']['Description']))\n",
        "print('Unit: {}'.format(measurements['reaTZon_y']['Unit']))"
      ]
    },
    {
      "cell_type": "markdown",
      "metadata": {
        "id": "IWb-FDIo62B-"
      },
      "source": [
        "Note that if an input variable is overwritten with a value above/below its maximum/minimum bound, then the maximum/minimum value is used instead.\n",
        "\n",
        "Now that we understand the building and avaiable control input and measurements points, we are ready to initialize a simulation and test scenario."
      ]
    },
    {
      "cell_type": "markdown",
      "metadata": {
        "id": "1HEafdhfid4C"
      },
      "source": [
        "### Initializing a Simulation and Scenario\n"
      ]
    },
    {
      "cell_type": "markdown",
      "metadata": {
        "id": "x1_CEzKE7XKu"
      },
      "source": [
        "A co-simulation between your test controller and the test case can be started in two ways:  \n",
        "\n",
        "1. By intializing the test case to a specific time with a specific warm-up period using the `PUT /initialize` BOPTEST API endpoint and specifying the `start_time` in seconds from the beginning of the year and the `warmup_period` in the number of seconds before `start_time`.  This type of initialization allows for a user to test their controller for arbitrary periods during the year.  Note that the warm-up period is a period of simulation before the desired starting time that can be used to set initial conditions of the simulation at the start time.  During warm-up, the baseline controller simulates the model to prepare it to a realistic operational state.\n",
        "\n",
        "2. Selecting a testing scenario using the `PUT /scenario` BOPTEST API endpoint, which allows a user to test their controller for a pre-defined period and with predefined conditions, as defined for each test case within their respective documentation.  An important distinction compared to the previous initialization choice is that selecting a test scenario will not allow a user to simulate the test case past the end point of the scenario time period, unless the test case is reinitialized again.\n",
        "\n",
        "Let's first use the `PUT /initialize` BOPTEST API endpoint with parameters `start_time` and `warmup_period` to initialize the test case for February 1st with one week of warm-up period.  Notice that the returned json contains the current values of the measurement points, including `time`.  The simulation will then wait for another API request, such as the one to advance the simulation with a specific control input described in the next section."
      ]
    },
    {
      "cell_type": "code",
      "execution_count": 6,
      "metadata": {
        "colab": {
          "base_uri": "https://localhost:8080/"
        },
        "id": "F7H0EF-aBaWR",
        "outputId": "4b3ce9e1-c4d9-4c72-9fcc-87fc2a4d04fa"
      },
      "outputs": [
        {
          "output_type": "stream",
          "name": "stdout",
          "text": [
            "Operative temperature [degC]: 21.364446797690675\n",
            "Day of the year: 31.0\n"
          ]
        }
      ],
      "source": [
        "y = requests.put('{0}/initialize/{1}'.format(url, testid),\n",
        "                 data={'start_time':   31*24*3600,\n",
        "                       'warmup_period': 7*24*3600}).json()['payload']\n",
        "print('Operative temperature [degC]: {}'.format(y['reaTZon_y']-273.15))\n",
        "print('Day of the year: {}'.format(y['time']/24/3600))"
      ]
    },
    {
      "cell_type": "markdown",
      "metadata": {
        "id": "Z0pLKb3MDvxf"
      },
      "source": [
        "Now, let's see how we can select a specific testing scenario.  For our selected test case `bestest_hydronic_heat_pump`, testing scenario time periods are available that each last for two weeks, with a one week warm-up period.  These periods represent either peak heating or typical heating.  Note for test cases that also utilize cooling systems, scanerio time periods for peak cooling, typical cooling, and mixed heating and cooling are also available.  In addition to the time period, a testing scenario is also defined by an electricity price profile.  For all available test cases, the available electricity price profiles represent constant, dynamic, or highly dynamic conditions.  A dynamic price profile follows something like a day-night or time-of-use tariff, while a highly dynamic price profile follows something like a wholesale electricity market for the building's location.  Note that for our selected test case `bestest_hydronic_heat_pump`, the price profiles include a constant offset for transportation fees and taxes such that realistic pricing is used.  See the detailed documentation for a summary of scenario options and more details of the scenario assumptions.\n",
        "\n",
        "Now, use the `PUT /scenario` BOPTEST API endpoint with parameters `time_period` and `electricity_price` to set a specific scenario.  The following shall be used to set the `peak_heat_day` time period with a `dynamic` electricity price profile:\n"
      ]
    },
    {
      "cell_type": "code",
      "execution_count": 7,
      "metadata": {
        "id": "FFSk7Me8M0uB"
      },
      "outputs": [],
      "source": [
        "scenario_return = requests.put('{0}/scenario/{1}'.format(url, testid),\n",
        "                  data={'time_period':'peak_heat_day',\n",
        "                        'electricity_price':'dynamic'}).json()['payload']"
      ]
    },
    {
      "cell_type": "markdown",
      "metadata": {
        "id": "wb-wrONNROe5"
      },
      "source": [
        "Note that setting the scenario API call returns two arguments: the `'time_period'` with current time measurements of the simulation intialized to the scenario time period, and the `'electricity_price'` that will be `True` if succeeded in setting the electricity price profile.\n"
      ]
    },
    {
      "cell_type": "code",
      "execution_count": 8,
      "metadata": {
        "colab": {
          "base_uri": "https://localhost:8080/"
        },
        "id": "XyE9xNv8NkAI",
        "outputId": "09d6c783-dbb3-42c9-d09a-4f727c48fb1b"
      },
      "outputs": [
        {
          "output_type": "stream",
          "name": "stdout",
          "text": [
            "Operative temperature [degC]: 21.314391986006342\n",
            "Day of the year: 16.0\n",
            "Electricity price scenario: dynamic\n"
          ]
        }
      ],
      "source": [
        "y = scenario_return['time_period']\n",
        "start_time_days = y['time']/24/3600\n",
        "print('Operative temperature [degC]: {}'.format(y['reaTZon_y']-273.15))\n",
        "print('Day of the year: {}'.format(y['time']/24/3600))\n",
        "print('Electricity price scenario: {}'.format(scenario_return['electricity_price']))"
      ]
    },
    {
      "cell_type": "markdown",
      "metadata": {
        "id": "iTsT9pZLNtDR"
      },
      "source": [
        "To check the current test case scenario, use the `GET /scenario` BOPTEST API endpoint:"
      ]
    },
    {
      "cell_type": "code",
      "execution_count": 9,
      "metadata": {
        "colab": {
          "base_uri": "https://localhost:8080/"
        },
        "id": "BFAMBuv6TZKp",
        "outputId": "1f0c7fac-c458-4cc4-e167-3e823bceaa42"
      },
      "outputs": [
        {
          "output_type": "execute_result",
          "data": {
            "text/plain": [
              "{'electricity_price': 'dynamic', 'time_period': 'peak_heat_day'}"
            ]
          },
          "metadata": {},
          "execution_count": 9
        }
      ],
      "source": [
        "requests.get('{0}/scenario/{1}'.format(url, testid)).json()['payload']"
      ]
    },
    {
      "cell_type": "markdown",
      "metadata": {
        "id": "F2QmxlnlT6Pf"
      },
      "source": [
        "### Advancing the Simulation"
      ]
    },
    {
      "cell_type": "markdown",
      "metadata": {
        "id": "CdvzFRxpT-Hb"
      },
      "source": [
        "With the test case simulation intialized, we are ready to advance the simulation.  First, we must consider how far to advance the simulation at one time, called the control step.  Use the `GET /step` and `PUT /step` BOPTEST API endpoints to get and set, in this case with the `step` parameter, the control step.  Note that each test case has a control step specified by default.  Our selected test case has a default control step of 3600 seconds, which we get and then set as an example."
      ]
    },
    {
      "cell_type": "code",
      "execution_count": 10,
      "metadata": {
        "colab": {
          "base_uri": "https://localhost:8080/"
        },
        "id": "nrYKoEv9AE62",
        "outputId": "987f24ca-4004-4b33-a6c5-c93627214d8f"
      },
      "outputs": [
        {
          "output_type": "stream",
          "name": "stdout",
          "text": [
            "DEFAULT STEP PERIOD [seconds] --------------------------------\n",
            "3600\n"
          ]
        },
        {
          "output_type": "execute_result",
          "data": {
            "text/plain": [
              "<Response [200]>"
            ]
          },
          "metadata": {},
          "execution_count": 10
        }
      ],
      "source": [
        "# Get default control step\n",
        "step = requests.get('{0}/step/{1}'.format(url, testid)).json()['payload']\n",
        "print('DEFAULT STEP PERIOD [seconds] --------------------------------')\n",
        "print(step)\n",
        "# Set the control step\n",
        "requests.put('{0}/step/{1}'.format(url, testid), data={'step':step})"
      ]
    },
    {
      "cell_type": "markdown",
      "metadata": {
        "id": "mSaMrUpLM5Ld"
      },
      "source": [
        "Now, use the `POST /advance` BOPTEST API endpoint to advance the test case simulation one control step with the embedded baseline controller.  Here, we are not overwriting any control inputs. However, the simulation has advanced one hour with the baseline controller from the initial time of the `peak_heat_day` scenario time period we specified earlier.  Note that the returned json contains the current time measurements of the simulation, that is, after the advance has completed."
      ]
    },
    {
      "cell_type": "code",
      "execution_count": 11,
      "metadata": {
        "colab": {
          "base_uri": "https://localhost:8080/"
        },
        "id": "H9ccFluMUjtg",
        "outputId": "8ce416c1-1815-4b2c-a195-b5b402836d87"
      },
      "outputs": [
        {
          "output_type": "stream",
          "name": "stdout",
          "text": [
            "Operative temperature [degC]: 21.406397976090375\n",
            "Day of the year: 16.041666666666668\n"
          ]
        }
      ],
      "source": [
        "y = requests.post('{0}/advance/{1}'.format(url, testid)).json()['payload']\n",
        "print('Operative temperature [degC]: {}'.format(y['reaTZon_y']-273.15))\n",
        "print('Day of the year: {}'.format(y['time']/24/3600))"
      ]
    },
    {
      "cell_type": "markdown",
      "metadata": {
        "id": "uoBwCXZ9XaBw"
      },
      "source": [
        "Finally, use the `POST /advance` BOPTEST API endpoint to advance the simulation further, but this time with the heat pump modulation signal overwritten so that it runs the compressor at half of its capacity for one hour (the default control step).  It is needed to both activate this signal and define the desired value when advancing the simulation.  The control signals to be overwritten are defined with API request parameters that are dynamic according to the control inputs available for each test case.  Here, specify the values of the parameters in a Python dictionary `u` and pass it to the API request.  Remember that the evaporator fan and the circulation pump will be automatically switched on because of controller C2.  "
      ]
    },
    {
      "cell_type": "code",
      "execution_count": 12,
      "metadata": {
        "colab": {
          "base_uri": "https://localhost:8080/"
        },
        "id": "BIlIHKB4YP1P",
        "outputId": "388ef1a6-ba5d-4e20-8b6d-77809b371044"
      },
      "outputs": [
        {
          "output_type": "stream",
          "name": "stdout",
          "text": [
            "Operative temperature [degC]: 21.415455088881117\n",
            "Day of the year: 16.083333333333332\n"
          ]
        }
      ],
      "source": [
        "u = {'oveHeaPumY_u':0.5,\n",
        "     'oveHeaPumY_activate': 1}\n",
        "y = requests.post('{0}/advance/{1}'.format(url, testid), data=u).json()['payload']\n",
        "print('Operative temperature [degC]: {}'.format(y['reaTZon_y']-273.15))\n",
        "print('Day of the year: {}'.format(y['time']/24/3600))"
      ]
    },
    {
      "cell_type": "markdown",
      "metadata": {
        "id": "m8kWONS5YpG9"
      },
      "source": [
        "### Getting Simulation Result Data"
      ]
    },
    {
      "cell_type": "markdown",
      "metadata": {
        "id": "PnR1p5H9Ytru"
      },
      "source": [
        "Now let's take a look at the simulation results so far.  This can be obtained with the `PUT /results` BOPTEST API endpoint and `point_names`, `start_time`, and `final_time` parameters, which are used to define the point and time period of data to be retrieved, much like in any building management system.  The start and final times need to be defined in seconds from the start of the year.  In the code below, we use negative and positive infinity to collect all available data."
      ]
    },
    {
      "cell_type": "code",
      "execution_count": 13,
      "metadata": {
        "colab": {
          "base_uri": "https://localhost:8080/",
          "height": 467
        },
        "id": "rU_eIpcFZaVg",
        "outputId": "514503a4-0244-4c32-da22-83709c4f25ce"
      },
      "outputs": [
        {
          "output_type": "execute_result",
          "data": {
            "text/plain": [
              "<matplotlib.lines.Line2D at 0x7bb8800aa4a0>"
            ]
          },
          "metadata": {},
          "execution_count": 13
        },
        {
          "output_type": "display_data",
          "data": {
            "text/plain": [
              "<Figure size 640x480 with 1 Axes>"
            ],
            "image/png": "[encoded data removed]"
          },
          "metadata": {}
        }
      ],
      "source": [
        "import numpy as np\n",
        "import matplotlib.pyplot as plt\n",
        "\n",
        "args = {'point_names':['reaTZon_y'],'start_time':-np.inf, 'final_time':np.inf}\n",
        "res = requests.put('{0}/results/{1}'.format(url, testid), data=args).json()['payload']\n",
        "plt.plot(np.asarray(res['time'])/24/3600, np.asarray(res['reaTZon_y'])-273.15)\n",
        "plt.xlabel('Time from beginning of the year (days)')\n",
        "plt.ylabel('Zone operative temperature (degC)')\n",
        "plt.axvline(start_time_days, linestyle='--', color='r')"
      ]
    },
    {
      "cell_type": "markdown",
      "metadata": {
        "id": "L6qrOng3dKqz"
      },
      "source": [
        "Note that most of the simulation results correspond to the one week warm-up period defined by the scenario initilization done before, and only a small part to the couple of control steps advanced during the scenario test period.  The start time of the test period, saved in the variable `start_time_days` earlier, is shown in red.\n",
        "\n",
        "The results are provided during the warmup period so that for example, advanced controllers like MPC could use them for initial state estimation.\n",
        "\n"
      ]
    },
    {
      "cell_type": "markdown",
      "metadata": {
        "id": "eo_EYEG5R76x"
      },
      "source": [
        "\n",
        "### Getting Core KPI Values\n",
        "\n",
        "  \n",
        "\n",
        "We're now ready to obtain the final KPIs, calculated based on the emulator performance during a simulation (starting from the initialization). The core KPIs, those that are calculated for every test case, are defined in BOPTEST to evaluate different aspects of a controller. These are:\n",
        "\n",
        "  \n",
        "\n",
        "* **Thermal discomfort**: reported with units of [$K \\, h/zone$], defines the cumulative deviation of zone temperatures from upper and lower comfort limits that are predefined within the test case FMU for each zone, averaged over all zones. Air temperature is used for air-based systems and operative temperature is used for radiant systems.\n",
        "\n",
        "* **Indoor Air Quality (IAQ) Discomfort**: reported with units of [$ppm \\, h/zone$], defines the cumulative deviation of CO$_2$ concentration levels in zones from the acceptable concentration level, which are predefined within the test case FMU for each zone, averaged over all zones.\n",
        "\n",
        "* **Energy Use**: reported with units of [$kWh/m^2$], defines the HVAC energy usage.\n",
        "\n",
        "* **Peak electrical demand**: reported with units of [$kW/m^2$], defines the HVAC peak electrical demand.\n",
        "\n",
        "* **Peak gas demand**:reported with units of [$kW/m^2$], defines the HVAC peak gas demand.\n",
        "\n",
        "* **Peak district heating demand**:reported with units of [$kW/m^2$], defines the HVAC peak district heating demand.\n",
        "\n",
        "* **Cost**: reported with units of [USD/$m^2$] or [EUR/$m^2$], defines the operational cost associated with the HVAC energy usage.\n",
        "\n",
        "* **Emissions**: reported with units of [$kg \\, CO_2/m^2$], defines the CO$_2$ emissions from the HVAC energy usage.\n",
        "\n",
        "\n",
        "  \n",
        "  \n",
        "\n",
        "* **Computational time ratio**: defines the average ratio between the controller computation time and the test simulation control step. The controller computation time is measured as the time between two emulator advances.\n",
        "\n",
        "  \n",
        "\n",
        "The core KPIs are normally calculated at the end of the simulation to assess the controller performance, although they can be computed at any time. The warmup period is not taken into account for the calculation of the KPIs.\n",
        "\n",
        "  \n",
        "\n",
        "Get the core KPI values using the `GET /kpi` BOPTEST API endpoint."
      ]
    },
    {
      "cell_type": "code",
      "execution_count": 14,
      "metadata": {
        "colab": {
          "base_uri": "https://localhost:8080/"
        },
        "id": "S7bzFPZBhIFR",
        "outputId": "51d57de6-3a16-4ead-d501-e6463c466a25"
      },
      "outputs": [
        {
          "output_type": "execute_result",
          "data": {
            "text/plain": [
              "{'tdis_tot': 0,\n",
              " 'idis_tot': 0,\n",
              " 'ener_tot': 0.02839331840257897,\n",
              " 'cost_tot': 0.006766127775334571,\n",
              " 'emis_tot': 0.004741684173230688,\n",
              " 'pele_tot': 0.015044889571272379,\n",
              " 'pgas_tot': None,\n",
              " 'pdih_tot': None,\n",
              " 'time_rat': 0.00014319724506802028}"
            ]
          },
          "metadata": {},
          "execution_count": 14
        }
      ],
      "source": [
        "requests.get('{0}/kpi/{1}'.format(url, testid)).json()['payload']"
      ]
    },
    {
      "cell_type": "markdown",
      "metadata": {
        "id": "nLwaTeZohmX_"
      },
      "source": [
        "### Simulating the Baseline Control for Benchmarking"
      ]
    },
    {
      "cell_type": "markdown",
      "metadata": {
        "id": "eRUBoh78iFd5"
      },
      "source": [
        "Before testing our own controller, let's simulate the baseline for a defined scenario and evaluate its performance.  We reinitialize the test case to return it to a clean state and record the KPIs of the baseline after simulating for the entire test scenario period for future comparison.\n",
        "The baseline can be quickly simulated by setting a long control step and without overwritting any control signal when advancing the simulation.  Here, we even set the control step to one year knowing that the simulation is forced to stop at the end of the scenario time period.\n"
      ]
    },
    {
      "cell_type": "code",
      "execution_count": 15,
      "metadata": {
        "colab": {
          "base_uri": "https://localhost:8080/"
        },
        "id": "U-DD8_kciaGx",
        "outputId": "fc2dc891-a51b-45c8-e097-19e139eea08d"
      },
      "outputs": [
        {
          "output_type": "execute_result",
          "data": {
            "text/plain": [
              "{'tdis_tot': 8.382467492017371,\n",
              " 'idis_tot': 0,\n",
              " 'ener_tot': 3.4781106340875496,\n",
              " 'cost_tot': 0.8828705411678542,\n",
              " 'emis_tot': 0.5808444758926209,\n",
              " 'pele_tot': 0.018913031427716383,\n",
              " 'pgas_tot': None,\n",
              " 'pdih_tot': None,\n",
              " 'time_rat': 5.491295028978771e-07}"
            ]
          },
          "metadata": {},
          "execution_count": 15
        }
      ],
      "source": [
        "# Reinitialize the test scenario\n",
        "requests.put('{0}/scenario/{1}'.format(url, testid),\n",
        "              data={'time_period':'peak_heat_day',\n",
        "                    'electricity_price':'dynamic'}).json()\n",
        "# Set the control step to one year\n",
        "requests.put('{0}/step/{1}'.format(url, testid), data={'step':365*24*3600})\n",
        "# Advance the simulation with no control overwrite\n",
        "requests.post('{0}/advance/{1}'.format(url, testid), data={}).json()\n",
        "# Get and print the KPIs\n",
        "kpis_bas = requests.get('{0}/kpi/{1}'.format(url, testid)).json()['payload']\n",
        "kpis_bas"
      ]
    },
    {
      "cell_type": "markdown",
      "metadata": {
        "id": "GnzL11hhj6UG"
      },
      "source": [
        "The following function can be used for a time series visualization of the results:"
      ]
    },
    {
      "cell_type": "code",
      "execution_count": 16,
      "metadata": {
        "id": "8n7x80jBkJbA"
      },
      "outputs": [],
      "source": [
        "import pandas as pd\n",
        "def get_and_plot_results(testid, start_time, final_time):\n",
        "    '''\n",
        "    Get and plot result key trajectories from the test case.\n",
        "\n",
        "    The key trajectories are zone operative temperature, zone heating and\n",
        "    cooling set points, heat pump electrical power, outside air dry bulb\n",
        "    temperature, and outside direct normal solar irradiation.\n",
        "\n",
        "    Parameters\n",
        "    ----------\n",
        "    testid : str\n",
        "      The testid for the test case.\n",
        "    start_time : float or int\n",
        "      The start time in seconds from the beginning of the year for data.\n",
        "    final_time : float or int\n",
        "      The final time in seconds from the beginning of the year for data.\n",
        "\n",
        "    Returns\n",
        "    -------\n",
        "    None\n",
        "\n",
        "    '''\n",
        "    df_res = pd.DataFrame()\n",
        "    points = ['reaTZon_y', 'reaTSetHea_y', 'reaTSetCoo_y', 'oveHeaPumY_u',\n",
        "              'weaSta_reaWeaTDryBul_y', 'weaSta_reaWeaHDirNor_y']\n",
        "    args = {'point_names':points,\n",
        "            'start_time':start_time,\n",
        "            'final_time':final_time}\n",
        "    res = requests.put('{0}/results/{1}'.format(url, testid),\n",
        "                        data=args).json()['payload']\n",
        "    df_res = pd.DataFrame(data=res)\n",
        "    df_res.set_index('time')\n",
        "    plt.close()\n",
        "    _, axs = plt.subplots(3, sharex=True, figsize=(10,8))\n",
        "    x_time = df_res['time']/3600./24.\n",
        "    # Plot operative temperature\n",
        "    axs[0].plot(x_time, df_res['reaTZon_y']    - 273.15, 'darkorange',\n",
        "                linestyle='-', linewidth=0.8, label='$T_z$')\n",
        "    axs[0].plot(x_time, df_res['reaTSetHea_y'] - 273.15, 'gray',\n",
        "                linewidth=0.8, label='Comfort setp.')\n",
        "    axs[0].plot(x_time, df_res['reaTSetCoo_y'] - 273.15, 'gray',\n",
        "                linewidth=0.8, label='_nolegend_')\n",
        "    axs[0].set_yticks(np.arange(15, 31, 5))\n",
        "    axs[0].set_ylabel('Operative\\ntemperature\\n($^\\circ$C)')\n",
        "    axs[0].legend()\n",
        "    # Plot heat pump electrical power\n",
        "    axs[1].plot(x_time, df_res['oveHeaPumY_u'], 'darkorange',\n",
        "                linestyle='-', linewidth=0.8, label='$P_{hp}$')\n",
        "    axs[1].set_ylabel('Heat pump\\nmodulation\\nsignal\\n( - )')\n",
        "    axs[1].legend()\n",
        "    # Plot disturbances\n",
        "    axs[2].plot(x_time, df_res['weaSta_reaWeaTDryBul_y'] - 273.15, 'royalblue',\n",
        "                linestyle='-', linewidth=0.8, label='$T_a$')\n",
        "    axs[2].set_ylabel('Ambient\\ntemperature\\n($^\\circ$C)')\n",
        "    axs[2].set_yticks(np.arange(-5, 16, 5))\n",
        "    axs[2].legend(loc='upper left')\n",
        "    axs[2].set_xlabel('Day of the year')\n",
        "    axt = axs[2].twinx()\n",
        "    axt.plot(x_time, df_res['weaSta_reaWeaHDirNor_y'], 'gold',\n",
        "             linestyle='-', linewidth=0.8, label='$\\dot{Q}_{rad}$')\n",
        "    axt.set_ylabel('Solar\\nirradiation\\n($W$)')\n",
        "    axt.legend(loc='upper right')\n",
        "    plt.show()\n",
        "\n",
        "    return None"
      ]
    },
    {
      "cell_type": "code",
      "execution_count": 17,
      "metadata": {
        "colab": {
          "base_uri": "https://localhost:8080/",
          "height": 696
        },
        "id": "iajzYCqXkL0p",
        "outputId": "d7b203f1-3af0-4ac5-9df1-5a1a54063e7a"
      },
      "outputs": [
        {
          "output_type": "display_data",
          "data": {
            "text/plain": [
              "<Figure size 1000x800 with 4 Axes>"
            ],
            "image/png": "[encoded data removed]"
          },
          "metadata": {}
        }
      ],
      "source": [
        "get_and_plot_results(testid, start_time=start_time_days*24*3600, final_time=np.inf)"
      ]
    },
    {
      "cell_type": "markdown",
      "metadata": {
        "id": "MMhFovHtYj5b"
      },
      "source": [
        "---"
      ]
    },
    {
      "cell_type": "markdown",
      "metadata": {
        "id": "W_pFyhI4lpSh"
      },
      "source": [
        "## Assessing Your Own Control Algorithm"
      ]
    },
    {
      "cell_type": "markdown",
      "metadata": {
        "id": "GpHRsDjyW85a"
      },
      "source": [
        "Now that we know how to initialize a test case, advance a simulation, and obtain results, it is time to implement and assess our own control algorithm.\n",
        "For this example we are going to implement a very simple proportional controller that will determine the heat pump modulation signal as a function of the zone operative temperature.\n",
        "No other variables need to be overwritten since the subcontroller C2 will switch on the heat pump fan and the circulation pump every time we send a control signal with `oveHeaPumY_u > 0`.\n",
        "Only two parameters need tuning: the temperature set point and the proportional gain:"
      ]
    },
    {
      "cell_type": "code",
      "execution_count": 18,
      "metadata": {
        "id": "2bDPahItY5Lt"
      },
      "outputs": [],
      "source": [
        "class Controller_Proportional(object):\n",
        "\n",
        "    def __init__(self, TSet=273.15+21, k_p=10.):\n",
        "        '''Constructor.\n",
        "\n",
        "        Parameters\n",
        "        ----------\n",
        "        TSet : float, optional\n",
        "            Temperature set-point in Kelvin.\n",
        "        k_p : float, optional\n",
        "            Proportional gain.\n",
        "\n",
        "        '''\n",
        "\n",
        "        self.TSet = TSet\n",
        "        self.k_p  = k_p\n",
        "\n",
        "    def compute_control(self, y):\n",
        "        '''Compute the control input from the measurement.\n",
        "\n",
        "        Parameters\n",
        "        ----------\n",
        "        y : dict\n",
        "            Contains the current values of the measurements.\n",
        "            {<measurement_name>:<measurement_value>}\n",
        "\n",
        "        Returns\n",
        "        -------\n",
        "        u : dict\n",
        "            Defines the control input to be used for the next step.\n",
        "            {<input_name> : <input_value>}\n",
        "\n",
        "        '''\n",
        "\n",
        "        # Compute control\n",
        "        if y['reaTZon_y']<self.TSet:\n",
        "            e = self.TSet - y['reaTZon_y']\n",
        "        else:\n",
        "            e = 0\n",
        "\n",
        "        value = self.k_p*e\n",
        "        u = {'oveHeaPumY_u':value,\n",
        "             'oveHeaPumY_activate': 1}\n",
        "\n",
        "        return u"
      ]
    },
    {
      "cell_type": "markdown",
      "metadata": {
        "id": "G0lxuHPXZABi"
      },
      "source": [
        "Now let's initialize the test case in the same scenario that we used to obtain the baseline controller KPIs, that is, the peak heating period with dynamic pricing.  We also define the control step to be one hour.  This is equal to the default but maybe a tunable parameter later.\n",
        "After that, we instantiate the controller and define a simulation loop using the BOPTEST API.\n",
        "Note that the test case will return an empty dictionary when the testing period has elapsed, such that we can loop over the returned measurements without having to infer when the simulation time should end."
      ]
    },
    {
      "cell_type": "code",
      "execution_count": 19,
      "metadata": {
        "colab": {
          "base_uri": "https://localhost:8080/"
        },
        "id": "daplgiu0c8zl",
        "outputId": "2184d645-2f20-455f-915d-e2f187fe9fc8"
      },
      "outputs": [
        {
          "output_type": "stream",
          "name": "stdout",
          "text": [
            "-------------------------------------------------------------------\n",
            "Operative temperature [degC]  = 20.80\n",
            "Simulation time [elapsed days] = 14.00\n",
            "-------------------------------------------------------------------\n"
          ]
        }
      ],
      "source": [
        "# Initialize scenario\n",
        "y = requests.put('{0}/scenario/{1}'.format(url, testid),\n",
        "                 data={'time_period':'peak_heat_day',\n",
        "                       'electricity_price':'dynamic'}).json()['payload']['time_period']\n",
        "# Set control step\n",
        "requests.put('{0}/step/{1}'.format(url, testid), data={'step':3600})\n",
        "# Instantiate controller\n",
        "con = Controller_Proportional(TSet=273.15+21, k_p=5.)\n",
        "# Simulation loop\n",
        "from IPython.display import clear_output\n",
        "while y:\n",
        "    # Clear the display output at each step\n",
        "    clear_output(wait=True)\n",
        "    # Print the current operative temperature and simulation time\n",
        "    print('-------------------------------------------------------------------')\n",
        "    print('Operative temperature [degC]  = {:.2f}'.format(y['reaTZon_y']-273.15))\n",
        "    simulation_time_days = y['time']/3600/24\n",
        "    print('Simulation time [elapsed days] = {:.2f}'.format((simulation_time_days - \\\n",
        "                                                    start_time_days)))\n",
        "    print('-------------------------------------------------------------------')\n",
        "    # Compute control signal\n",
        "    u = con.compute_control(y)\n",
        "    # Advance simulation with control signal\n",
        "    y = requests.post('{0}/advance/{1}'.format(url, testid), data=u).json()['payload']\n"
      ]
    },
    {
      "cell_type": "markdown",
      "metadata": {
        "id": "ZeasYs0bfnfA"
      },
      "source": [
        "After the simulation is done, we can plot the results, obtain KPIs, and compare with those obtained for the baseline controller, which were saved in the variable `kpis_bas`."
      ]
    },
    {
      "cell_type": "code",
      "execution_count": 20,
      "metadata": {
        "colab": {
          "base_uri": "https://localhost:8080/",
          "height": 696
        },
        "id": "LvpSP0Frfzb-",
        "outputId": "ce90a71b-9441-49b9-9a2a-9e4ea731c165"
      },
      "outputs": [
        {
          "output_type": "display_data",
          "data": {
            "text/plain": [
              "<Figure size 1000x800 with 4 Axes>"
            ],
            "image/png": "[encoded data removed]"
          },
          "metadata": {}
        }
      ],
      "source": [
        "get_and_plot_results(testid, start_time=start_time_days*24*3600, final_time=np.inf)"
      ]
    },
    {
      "cell_type": "code",
      "execution_count": 21,
      "metadata": {
        "colab": {
          "base_uri": "https://localhost:8080/"
        },
        "id": "uYwtqA_2gHVP",
        "outputId": "eb58a6d5-f248-457d-ac1c-05230c1e98d7"
      },
      "outputs": [
        {
          "output_type": "execute_result",
          "data": {
            "text/plain": [
              "{'tdis_tot': 19.876021766419118,\n",
              " 'idis_tot': 0,\n",
              " 'ener_tot': 2.731379921546184,\n",
              " 'cost_tot': 0.6932941788657855,\n",
              " 'emis_tot': 0.4561404468982127,\n",
              " 'pele_tot': 0.020371771206436497,\n",
              " 'pgas_tot': None,\n",
              " 'pdih_tot': None,\n",
              " 'time_rat': 0.00015647724226603522}"
            ]
          },
          "metadata": {},
          "execution_count": 21
        }
      ],
      "source": [
        "kpis_con = requests.get('{0}/kpi/{1}'.format(url, testid)).json()['payload']\n",
        "kpis_con"
      ]
    },
    {
      "cell_type": "code",
      "execution_count": 22,
      "metadata": {
        "colab": {
          "base_uri": "https://localhost:8080/"
        },
        "id": "cjhWmt8sqVAi",
        "outputId": "4dedff55-1fe1-41cc-e520-41f6d8e90d25"
      },
      "outputs": [
        {
          "output_type": "execute_result",
          "data": {
            "text/plain": [
              "{'tdis_tot': 8.382467492017371,\n",
              " 'idis_tot': 0,\n",
              " 'ener_tot': 3.4781106340875496,\n",
              " 'cost_tot': 0.8828705411678542,\n",
              " 'emis_tot': 0.5808444758926209,\n",
              " 'pele_tot': 0.018913031427716383,\n",
              " 'pgas_tot': None,\n",
              " 'pdih_tot': None,\n",
              " 'time_rat': 5.491295028978771e-07}"
            ]
          },
          "metadata": {},
          "execution_count": 22
        }
      ],
      "source": [
        "kpis_bas"
      ]
    },
    {
      "cell_type": "markdown",
      "metadata": {
        "id": "YBGPmm8TxLko"
      },
      "source": [
        "Our controller does not improve the results of the baseline so far.\n",
        "While it does use less energy, it approximately doubles the thermal discomfort.\n",
        "You may want to re-run the previous cells with different values of `TSet`, `k_p`, and control step to find a good balance between comfort and operational cost.\n",
        "Feel free to also explore viewing other measurements or changing the test case scenario."
      ]
    },
    {
      "cell_type": "markdown",
      "metadata": {
        "id": "r6h7MYfQiiy8"
      },
      "source": [
        "### Stopping the Test Case\n",
        "\n",
        "Now that we're finished evaluating the performance of our controller, let's stop the test case instance in order to free up resources in the server for other test cases.  "
      ]
    },
    {
      "cell_type": "code",
      "execution_count": 23,
      "metadata": {
        "id": "DKJxxIPCjCi8",
        "outputId": "dd959be7-9377-4dc5-c392-e4cafe54b593",
        "colab": {
          "base_uri": "https://localhost:8080/"
        }
      },
      "outputs": [
        {
          "output_type": "execute_result",
          "data": {
            "text/plain": [
              "<Response [200]>"
            ]
          },
          "metadata": {},
          "execution_count": 23
        }
      ],
      "source": [
        "requests.put('{0}/stop/{1}'.format(url, testid))"
      ]
    },
    {
      "cell_type": "markdown",
      "metadata": {
        "id": "lMK54jC50P-I"
      },
      "source": [
        "---"
      ]
    },
    {
      "cell_type": "markdown",
      "metadata": {
        "id": "anzaWV-rUUhv"
      },
      "source": [
        "# **Part 3: (Exercise) Learning BOPTEST-Gym: the OpenAI-Gym interface of BOPTEST**"
      ]
    },
    {
      "cell_type": "markdown",
      "source": [
        "The controller we implemented before was quite simplistic and not very performant. Optimal controllers such as Reinfocement Learning (RL) or Model Predictive Control (MPC) can substantially improve the performance of the building operation.\n",
        "During the last decade, there has been a clear interest growth in using optimal control for HVAC systems.\n",
        "RL algorithms have gained particular popularity for their application in a **demand response** setting, that is, the application of exploiting the energy flexibility of buildings to adapt the demand to the energy mix. Shifting energy loads in time can help increasing the penetration of renewable energies into the grid.\n",
        "This part of the tutorial focuses on RL for building energy management. More specifically, we are going to learn how to use BOPTEST-Gym, the OpenAI-Gym interface of BOPTEST."
      ],
      "metadata": {
        "id": "Rv9jh4RwQkgi"
      }
    },
    {
      "cell_type": "markdown",
      "source": [
        "##**Introduction to Reinforcement Learning** <a name=\"introRL\"></a>"
      ],
      "metadata": {
        "id": "mwkT73DeFPu5"
      }
    },
    {
      "cell_type": "markdown",
      "source": [
        "RL is one of the categories of machine learning, along with unsupervised learning and supervised learning In RL the goal is to learn the actions to be taken to achieve a predefined objective. RL relies on the principle of *repetitive experimentation*, that is, an approach where we roll out several **episodes of experience** where an agent 🤖 (the RL algorithm) interacts with its environment 🌎 (the process to be optimized) to learn based on a **reward** signal that is returned for every **action** taken from a specific **state** of the environment.\n",
        "\n",
        "Let's take the example of teaching a dog to grab a stick. In this case, the dog is the agent and all its surroundings conform the environment. Whenever the dog observes that there is a person throwing a stick, it will perform an action. In case it grabs the stick and brings it back, the person will provide a cookie as a reward to encourage that behavior. In case the dog does not go for the stick but just runs around or goes chasing other dogs, the person will not provide the cookie. Eventually, the dog will associate the actions that bring the most rewards to specific observations and will be deciding on those actions accordingly."
      ],
      "metadata": {
        "id": "-Ie2MIABFWPc"
      }
    },
    {
      "cell_type": "markdown",
      "source": [
        "<img src=\"https://drive.google.com/uc?id=1Leqg1LIT4LRv84B6OVG51O4QSOXvfw0Y\" width=\"500\"/>\n",
        "\n",
        "*Figure: RL notation when teaching a dog. Source: [Mathworks](https://www.mathworks.com/discovery/reinforcement-learning.html)*\n",
        "\n"
      ],
      "metadata": {
        "id": "Ud4KGLQrFtGf"
      }
    },
    {
      "cell_type": "markdown",
      "source": [
        "##**What is OpenAI-Gym and Gymnasium?** <a name=\"whatIsOpenAIGym\"></a>"
      ],
      "metadata": {
        "id": "qEd22QIE5tch"
      }
    },
    {
      "cell_type": "markdown",
      "source": [
        "OpenAI-Gym is a software library that gathers a **collection of tasks** called environments with a **unique Python interface** to control all of them. This unique interface is a key feature in the software package, and has given rise to a standard for the format in which RL agents are developed and treated, independently of\n",
        "their internal functioning. The tasks defined in the Gym environments involve\n",
        "a wide variety of fields like video games, classic control theory problems, or high dimensional robotic locomotive tasks.\n",
        "[Gymnasium](https://gymnasium.farama.org/) is a maintained fork of the OpenAI-Gym library. You can find a list of available environments [here](https://gymnasium.farama.org/environments/classic_control/).\n",
        "\n",
        "<!-- There also exist numerous third party environments aiming to engage control developers to test\n",
        "their algorithms in their field of interest, e.g. for the optimization of electrical mircrogrids or for the intelligent control of electric vehicles. -->\n",
        "\n",
        "\n",
        "The OpenAI-Gym philosophy heavily relies on the episodic aspect of RL, i.e.\n",
        "the agent’s history is broken down into a series of experiences called **episodes** that may be of\n",
        "variable length. The agent interacts with the environment until it reaches a\n",
        "terminal state when the episode is finished. The goal is to maximize the total\n",
        "cumulative reward per episode.\n",
        "\n",
        "The main methods of the OpenAI-Gym interface are the following:\n",
        "\n",
        "- `obs = env.reset()` ➡️ The `reset` method is the one called first to initialize the environment `env` (whatever it is). The environment returns the first observation `obs` (state).\n",
        "- `next_obs,reward,terminated,truncated,info = env.step(action)` ➡️ The `step` method is used iteratively to interact with the environment. The RL agent computes an `action`, and the environment returns the next observation, associated reward, whether the episode is done (=terminated), and some other optional information.\n",
        "\n",
        "Gym can be easily installed with pip. BOPTEST-Gym uses RL algorithms from the [Stable Baselines 3](https://stable-baselines3.readthedocs.io/en/master/) repository to exemplify and test its functionality. Therefore, we need to install stable-baselines3 as well."
      ],
      "metadata": {
        "id": "aE2cTYy85x1R"
      }
    },
    {
      "cell_type": "code",
      "source": [
        "!pip install gymnasium==0.28.1 stable-baselines3==2.0.0"
      ],
      "metadata": {
        "colab": {
          "base_uri": "https://localhost:8080/"
        },
        "id": "TEI1EQaX6752",
        "outputId": "db5f8f12-47fc-4990-b4b0-4439b19be559"
      },
      "execution_count": 24,
      "outputs": [
        {
          "output_type": "stream",
          "name": "stdout",
          "text": [
            "Requirement already satisfied: gymnasium==0.28.1 in /usr/local/lib/python3.10/dist-packages (0.28.1)\n",
            "Requirement already satisfied: stable-baselines3==2.0.0 in /usr/local/lib/python3.10/dist-packages (2.0.0)\n",
            "Requirement already satisfied: numpy>=1.21.0 in /usr/local/lib/python3.10/dist-packages (from gymnasium==0.28.1) (1.23.5)\n",
            "Requirement already satisfied: jax-jumpy>=1.0.0 in /usr/local/lib/python3.10/dist-packages (from gymnasium==0.28.1) (1.0.0)\n",
            "Requirement already satisfied: cloudpickle>=1.2.0 in /usr/local/lib/python3.10/dist-packages (from gymnasium==0.28.1) (2.2.1)\n",
            "Requirement already satisfied: typing-extensions>=4.3.0 in /usr/local/lib/python3.10/dist-packages (from gymnasium==0.28.1) (4.7.1)\n",
            "Requirement already satisfied: farama-notifications>=0.0.1 in /usr/local/lib/python3.10/dist-packages (from gymnasium==0.28.1) (0.0.4)\n",
            "Requirement already satisfied: torch>=1.11 in /usr/local/lib/python3.10/dist-packages (from stable-baselines3==2.0.0) (2.0.1+cu118)\n",
            "Requirement already satisfied: pandas in /usr/local/lib/python3.10/dist-packages (from stable-baselines3==2.0.0) (1.5.3)\n",
            "Requirement already satisfied: matplotlib in /usr/local/lib/python3.10/dist-packages (from stable-baselines3==2.0.0) (3.7.1)\n",
            "Requirement already satisfied: filelock in /usr/local/lib/python3.10/dist-packages (from torch>=1.11->stable-baselines3==2.0.0) (3.12.2)\n",
            "Requirement already satisfied: sympy in /usr/local/lib/python3.10/dist-packages (from torch>=1.11->stable-baselines3==2.0.0) (1.12)\n",
            "Requirement already satisfied: networkx in /usr/local/lib/python3.10/dist-packages (from torch>=1.11->stable-baselines3==2.0.0) (3.1)\n",
            "Requirement already satisfied: jinja2 in /usr/local/lib/python3.10/dist-packages (from torch>=1.11->stable-baselines3==2.0.0) (3.1.2)\n",
            "Requirement already satisfied: triton==2.0.0 in /usr/local/lib/python3.10/dist-packages (from torch>=1.11->stable-baselines3==2.0.0) (2.0.0)\n",
            "Requirement already satisfied: cmake in /usr/local/lib/python3.10/dist-packages (from triton==2.0.0->torch>=1.11->stable-baselines3==2.0.0) (3.27.2)\n",
            "Requirement already satisfied: lit in /usr/local/lib/python3.10/dist-packages (from triton==2.0.0->torch>=1.11->stable-baselines3==2.0.0) (16.0.6)\n",
            "Requirement already satisfied: contourpy>=1.0.1 in /usr/local/lib/python3.10/dist-packages (from matplotlib->stable-baselines3==2.0.0) (1.1.0)\n",
            "Requirement already satisfied: cycler>=0.10 in /usr/local/lib/python3.10/dist-packages (from matplotlib->stable-baselines3==2.0.0) (0.11.0)\n",
            "Requirement already satisfied: fonttools>=4.22.0 in /usr/local/lib/python3.10/dist-packages (from matplotlib->stable-baselines3==2.0.0) (4.42.1)\n",
            "Requirement already satisfied: kiwisolver>=1.0.1 in /usr/local/lib/python3.10/dist-packages (from matplotlib->stable-baselines3==2.0.0) (1.4.4)\n",
            "Requirement already satisfied: packaging>=20.0 in /usr/local/lib/python3.10/dist-packages (from matplotlib->stable-baselines3==2.0.0) (23.1)\n",
            "Requirement already satisfied: pillow>=6.2.0 in /usr/local/lib/python3.10/dist-packages (from matplotlib->stable-baselines3==2.0.0) (9.4.0)\n",
            "Requirement already satisfied: pyparsing>=2.3.1 in /usr/local/lib/python3.10/dist-packages (from matplotlib->stable-baselines3==2.0.0) (3.1.1)\n",
            "Requirement already satisfied: python-dateutil>=2.7 in /usr/local/lib/python3.10/dist-packages (from matplotlib->stable-baselines3==2.0.0) (2.8.2)\n",
            "Requirement already satisfied: pytz>=2020.1 in /usr/local/lib/python3.10/dist-packages (from pandas->stable-baselines3==2.0.0) (2023.3)\n",
            "Requirement already satisfied: six>=1.5 in /usr/local/lib/python3.10/dist-packages (from python-dateutil>=2.7->matplotlib->stable-baselines3==2.0.0) (1.16.0)\n",
            "Requirement already satisfied: MarkupSafe>=2.0 in /usr/local/lib/python3.10/dist-packages (from jinja2->torch>=1.11->stable-baselines3==2.0.0) (2.1.3)\n",
            "Requirement already satisfied: mpmath>=0.19 in /usr/local/lib/python3.10/dist-packages (from sympy->torch>=1.11->stable-baselines3==2.0.0) (1.3.0)\n"
          ]
        }
      ]
    },
    {
      "cell_type": "markdown",
      "source": [
        "##**What is BOPTEST-Gym?** <a name=\"whatIsBoptestGym\"></a>"
      ],
      "metadata": {
        "id": "JDbL2R-e4tUr"
      }
    },
    {
      "cell_type": "markdown",
      "metadata": {
        "id": "uK24xVcyWpAI"
      },
      "source": [
        "BOPTEST-Gym is the OpenAI-Gym interface of BOPTEST that helps to train RL agents for the application of building climate control.\n",
        "The BOPTEST-Gym interface accomodates the BOPTEST API to have BOPTEST building emulators as environments that follow the OpenAI-Gym standard.\n",
        "Therefore, the BOPTEST-Gym interface facilitates the development of RL agents as it allows interacting with the BOPTEST building emulators with a standard that is very well known by the machine learning community. Or even better, it allows us to directly use existing RL agents that have been developed following this standard, like those from the [Stable Baselines 3](https://stable-baselines3.readthedocs.io/en/master/) repository.\n",
        "You can find more information about BOPTEST-Gym in [this paper](https://publications.ibpsa.org/conference/paper/?id=bs2021_30380).\n",
        "\n",
        "A particularly relevant hyperparameter to set in BOPTEST-Gym is the `testcase`, a string specifying the BOPTEST emulator of choice. This string selects the building model from the [menu of BOPTEST building emulators](https://ibpsa.github.io/project1-boptest/testcases/index.html)."
      ]
    },
    {
      "cell_type": "markdown",
      "source": [
        "##**Starting up a BOPTEST-Gym environment** <a name=\"startingUpBoptestGym\"></a>"
      ],
      "metadata": {
        "id": "ovTLa3xe7K43"
      }
    },
    {
      "cell_type": "markdown",
      "source": [
        "Now that we have all package dependencies, let's clone the BOPTEST-Gym repository. We are going to clone the `boptest-gym-service` branch which works in the same way as the `master` branch but allows us to directly use the web-based version of BOPTEST that is readily available such that we do not have to deploy the building test case Docker containers locally."
      ],
      "metadata": {
        "id": "oYqm-i9w7Xxd"
      }
    },
    {
      "cell_type": "code",
      "source": [
        "try:\n",
        "  !rm -rf boptestGymService\n",
        "except:\n",
        "  pass\n",
        "!git clone -b boptest-gym-service https://github.com/ibpsa/project1-boptest-gym.git boptestGymService"
      ],
      "metadata": {
        "colab": {
          "base_uri": "https://localhost:8080/"
        },
        "id": "yl1qR1nP7bz1",
        "outputId": "11d55ce3-0135-4d20-ffa4-8866216b58bf"
      },
      "execution_count": 25,
      "outputs": [
        {
          "output_type": "stream",
          "name": "stdout",
          "text": [
            "Cloning into 'boptestGymService'...\n",
            "remote: Enumerating objects: 3565, done.\u001b[K\n",
            "remote: Counting objects: 100% (1111/1111), done.\u001b[K\n",
            "remote: Compressing objects: 100% (420/420), done.\u001b[K\n",
            "remote: Total 3565 (delta 606), reused 1102 (delta 604), pack-reused 2454\u001b[K\n",
            "Receiving objects: 100% (3565/3565), 47.60 MiB | 13.05 MiB/s, done.\n",
            "Resolving deltas: 100% (1883/1883), done.\n"
          ]
        }
      ]
    },
    {
      "cell_type": "markdown",
      "source": [
        "Now we import the `BoptestGymEnv` class from the just cloned directory and instantiate our first BOPTEST-Gym environment!"
      ],
      "metadata": {
        "id": "4xilXr7d7tL4"
      }
    },
    {
      "cell_type": "code",
      "source": [
        "import sys\n",
        "sys.path.insert(0,'boptestGymService')\n",
        "from boptestGymEnv import BoptestGymEnv\n",
        "\n",
        "# url for the BOPTEST service\n",
        "url = 'https://api.boptest.net'\n",
        "\n",
        "# Instantiate environment\n",
        "env = BoptestGymEnv(url                   = url,\n",
        "                    testcase              = 'bestest_hydronic_heat_pump',\n",
        "                    actions               = ['oveHeaPumY_u'],\n",
        "                    observations          = {'reaTZon_y':(280.,310.)},\n",
        "                    random_start_time     = False,\n",
        "                    start_time            = 31*24*3600,\n",
        "                    max_episode_length    = 24*3600,\n",
        "                    warmup_period         = 24*3600,\n",
        "                    step_period           = 3600)"
      ],
      "metadata": {
        "colab": {
          "base_uri": "https://localhost:8080/"
        },
        "id": "ePMs6-Nl7u7G",
        "outputId": "393b8e48-a1b2-40ea-ab35-9af3c20506fb"
      },
      "execution_count": 26,
      "outputs": [
        {
          "output_type": "stream",
          "name": "stderr",
          "text": [
            "/content/boptestGymService/examples/test_and_plot.py:122: DeprecationWarning: invalid escape sequence '\\c'\n",
            "  axs[0].set_ylabel('Operative\\ntemperature\\n($^\\circ$C)')\n",
            "/content/boptestGymService/examples/test_and_plot.py:135: DeprecationWarning: invalid escape sequence '\\d'\n",
            "  axt.plot(x_time, df['weaSta_reaWeaHDirNor_y'], color='gold', linestyle='-', linewidth=1, label='$\\dot{Q}_rad$')\n",
            "/usr/local/lib/python3.10/dist-packages/gymnasium/spaces/box.py:130: UserWarning: \u001b[33mWARN: Box bound precision lowered by casting to float32\u001b[0m\n",
            "  gym.logger.warn(f\"Box bound precision lowered by casting to {self.dtype}\")\n"
          ]
        }
      ]
    },
    {
      "cell_type": "markdown",
      "source": [
        "You have connected to a BOPTEST building emulator and wrapped it around a Gym environment. Let's examine more in detail the arguments that you have used:\n",
        "- `url`: the domain where your test case lives. In this case it is the url to BOPTEST-service, but it could be your localhost if you decide to spin a test case in your machine using Docker.\n",
        "- `testcase`: The string identifier of the testcase.\n",
        "- `actions`: List of strings indicating the action space.\n",
        "- `observations`: Dictionary mapping observation keys to a tuple with the lower and upper bound of each observation. These bounds define the typical operational range for discretization and normalization purposes. Observation keys must belong either to the set of measurements or to the set of forecasting variables of the BOPTEST test case.\n",
        "- `max_episode_lenght`: Maximum duration of each episode in seconds.\n",
        "- `random_start_time`: Set to True if desired to use a random start time for each episode. That is typically usefull when training an RL agent to run several episodes with different boundary condition data. In our case, we set it to False and specify the start time of the episode.\n",
        "- `start_time`: start time of the episode. It is specified in seconds from the beginning of the year. To be used in combination with `random_start_time=False`.  \n",
        "- `warmup_period`: Desired simulation period to initialize each episode, in seconds. In our case, we simulate the testcase for one day right before the beginning of the episode.\n",
        "- `step_period`: The period of each control step, in seconds. In this case is set to one hour."
      ],
      "metadata": {
        "id": "S9dnBfTB8Boc"
      }
    },
    {
      "cell_type": "markdown",
      "source": [
        "##**Interacting with a BOPTEST-Gym environment** <a name=\"interactingWithBoptestGym\"></a>"
      ],
      "metadata": {
        "id": "Ejv9-RiY8MPo"
      }
    },
    {
      "cell_type": "markdown",
      "source": [
        "Let's see what we can do with our building Gym environment. Recall that the first step is using the `reset` method to simulate the building right before the episode start time a time period specified in `warmup_period`. This will bring the building to a reasonable initial state and the environment will return an observation `obs` which, in our case, it is comprised of only the zone operative temperature (`reaTZon_y`). This temperature is in Kelvins, so we convert it to degrees Celsius."
      ],
      "metadata": {
        "id": "GODScRGz8PXo"
      }
    },
    {
      "cell_type": "code",
      "source": [
        "obs, _ = env.reset()\n",
        "print('Zone temperature: {:.2f} degC'.format(obs[0]-273.15))\n",
        "print('Episode starting day: {:.1f} (from beginning of the year)'.format(env.start_time/24/3600))"
      ],
      "metadata": {
        "colab": {
          "base_uri": "https://localhost:8080/"
        },
        "id": "F1KXGY6v8X_w",
        "outputId": "d9c25bc2-6a52-4f09-a369-4e6f540e798c"
      },
      "execution_count": 27,
      "outputs": [
        {
          "output_type": "stream",
          "name": "stderr",
          "text": [
            "/usr/local/lib/python3.10/dist-packages/ipykernel/ipkernel.py:283: DeprecationWarning: `should_run_async` will not call `transform_cell` automatically in the future. Please pass the result to `transformed_cell` argument and any exception that happen during thetransform in `preprocessing_exc_tuple` in IPython 7.17 and above.\n",
            "  and should_run_async(code)\n"
          ]
        },
        {
          "output_type": "stream",
          "name": "stdout",
          "text": [
            "Zone temperature: 21.37 degC\n",
            "Episode starting day: 31.0 (from beginning of the year)\n"
          ]
        }
      ]
    },
    {
      "cell_type": "markdown",
      "source": [
        "The BOPTEST-Gym environment can be printed to get useful information to control the building:"
      ],
      "metadata": {
        "id": "jQ52-xbR8kE1"
      }
    },
    {
      "cell_type": "code",
      "source": [
        "print(env)"
      ],
      "metadata": {
        "colab": {
          "base_uri": "https://localhost:8080/"
        },
        "id": "0j88ODRx8vUD",
        "outputId": "537780ff-cee7-4760-8964-9ad7e280f95d"
      },
      "execution_count": 28,
      "outputs": [
        {
          "output_type": "stream",
          "name": "stdout",
          "text": [
            "\n",
            "========================\n",
            "BOPTEST CASE INFORMATION\n",
            "========================\n",
            "\n",
            "Test case name\n",
            "--------------\n",
            "{'name': 'bestest_hydronic_heat_pump'}\n",
            "\n",
            "All measurement variables\n",
            "-------------------------\n",
            "{'reaCO2RooAir_y': {'Description': 'CO2 concentration in the zone',\n",
            "                    'Maximum': None,\n",
            "                    'Minimum': None,\n",
            "                    'Unit': 'ppm'},\n",
            " 'reaCOP_y': {'Description': 'Heat pump COP',\n",
            "              'Maximum': None,\n",
            "              'Minimum': None,\n",
            "              'Unit': '1'},\n",
            " 'reaPFan_y': {'Description': 'Electrical power of the heat pump evaporator '\n",
            "                              'fan',\n",
            "               'Maximum': None,\n",
            "               'Minimum': None,\n",
            "               'Unit': 'W'},\n",
            " 'reaPHeaPum_y': {'Description': 'Heat pump electrical power',\n",
            "                  'Maximum': None,\n",
            "                  'Minimum': None,\n",
            "                  'Unit': 'W'},\n",
            " 'reaPPumEmi_y': {'Description': 'Emission circuit pump electrical power',\n",
            "                  'Maximum': None,\n",
            "                  'Minimum': None,\n",
            "                  'Unit': 'W'},\n",
            " 'reaQFloHea_y': {'Description': 'Floor heating thermal power released to the '\n",
            "                                 'zone',\n",
            "                  'Maximum': None,\n",
            "                  'Minimum': None,\n",
            "                  'Unit': 'W'},\n",
            " 'reaQHeaPumCon_y': {'Description': 'Heat pump thermal power exchanged in the '\n",
            "                                    'condenser',\n",
            "                     'Maximum': None,\n",
            "                     'Minimum': None,\n",
            "                     'Unit': 'W'},\n",
            " 'reaQHeaPumEva_y': {'Description': 'Heat pump thermal power exchanged in the '\n",
            "                                    'evaporator',\n",
            "                     'Maximum': None,\n",
            "                     'Minimum': None,\n",
            "                     'Unit': 'W'},\n",
            " 'reaTRet_y': {'Description': 'Return water temperature from radiant floor',\n",
            "               'Maximum': None,\n",
            "               'Minimum': None,\n",
            "               'Unit': 'K'},\n",
            " 'reaTSetCoo_y': {'Description': 'Zone operative temperature setpoint for '\n",
            "                                 'cooling',\n",
            "                  'Maximum': None,\n",
            "                  'Minimum': None,\n",
            "                  'Unit': 'K'},\n",
            " 'reaTSetHea_y': {'Description': 'Zone operative temperature setpoint for '\n",
            "                                 'heating',\n",
            "                  'Maximum': None,\n",
            "                  'Minimum': None,\n",
            "                  'Unit': 'K'},\n",
            " 'reaTSup_y': {'Description': 'Supply water temperature to radiant floor',\n",
            "               'Maximum': None,\n",
            "               'Minimum': None,\n",
            "               'Unit': 'K'},\n",
            " 'reaTZon_y': {'Description': 'Zone operative temperature',\n",
            "               'Maximum': None,\n",
            "               'Minimum': None,\n",
            "               'Unit': 'K'},\n",
            " 'weaSta_reaWeaCeiHei_y': {'Description': 'Cloud cover ceiling height '\n",
            "                                          'measurement',\n",
            "                           'Maximum': None,\n",
            "                           'Minimum': None,\n",
            "                           'Unit': 'm'},\n",
            " 'weaSta_reaWeaCloTim_y': {'Description': 'Day number with units of seconds',\n",
            "                           'Maximum': None,\n",
            "                           'Minimum': None,\n",
            "                           'Unit': 's'},\n",
            " 'weaSta_reaWeaHDifHor_y': {'Description': 'Horizontal diffuse solar radiation '\n",
            "                                           'measurement',\n",
            "                            'Maximum': None,\n",
            "                            'Minimum': None,\n",
            "                            'Unit': 'W/m2'},\n",
            " 'weaSta_reaWeaHDirNor_y': {'Description': 'Direct normal radiation '\n",
            "                                           'measurement',\n",
            "                            'Maximum': None,\n",
            "                            'Minimum': None,\n",
            "                            'Unit': 'W/m2'},\n",
            " 'weaSta_reaWeaHGloHor_y': {'Description': 'Global horizontal solar '\n",
            "                                           'irradiation measurement',\n",
            "                            'Maximum': None,\n",
            "                            'Minimum': None,\n",
            "                            'Unit': 'W/m2'},\n",
            " 'weaSta_reaWeaHHorIR_y': {'Description': 'Horizontal infrared irradiation '\n",
            "                                          'measurement',\n",
            "                           'Maximum': None,\n",
            "                           'Minimum': None,\n",
            "                           'Unit': 'W/m2'},\n",
            " 'weaSta_reaWeaLat_y': {'Description': 'Latitude of the location',\n",
            "                        'Maximum': None,\n",
            "                        'Minimum': None,\n",
            "                        'Unit': 'rad'},\n",
            " 'weaSta_reaWeaLon_y': {'Description': 'Longitude of the location',\n",
            "                        'Maximum': None,\n",
            "                        'Minimum': None,\n",
            "                        'Unit': 'rad'},\n",
            " 'weaSta_reaWeaNOpa_y': {'Description': 'Opaque sky cover measurement',\n",
            "                         'Maximum': None,\n",
            "                         'Minimum': None,\n",
            "                         'Unit': '1'},\n",
            " 'weaSta_reaWeaNTot_y': {'Description': 'Sky cover measurement',\n",
            "                         'Maximum': None,\n",
            "                         'Minimum': None,\n",
            "                         'Unit': '1'},\n",
            " 'weaSta_reaWeaPAtm_y': {'Description': 'Atmospheric pressure measurement',\n",
            "                         'Maximum': None,\n",
            "                         'Minimum': None,\n",
            "                         'Unit': 'Pa'},\n",
            " 'weaSta_reaWeaRelHum_y': {'Description': 'Outside relative humidity '\n",
            "                                          'measurement',\n",
            "                           'Maximum': None,\n",
            "                           'Minimum': None,\n",
            "                           'Unit': '1'},\n",
            " 'weaSta_reaWeaSolAlt_y': {'Description': 'Solar altitude angle measurement',\n",
            "                           'Maximum': None,\n",
            "                           'Minimum': None,\n",
            "                           'Unit': 'rad'},\n",
            " 'weaSta_reaWeaSolDec_y': {'Description': 'Solar declination angle measurement',\n",
            "                           'Maximum': None,\n",
            "                           'Minimum': None,\n",
            "                           'Unit': 'rad'},\n",
            " 'weaSta_reaWeaSolHouAng_y': {'Description': 'Solar hour angle measurement',\n",
            "                              'Maximum': None,\n",
            "                              'Minimum': None,\n",
            "                              'Unit': 'rad'},\n",
            " 'weaSta_reaWeaSolTim_y': {'Description': 'Solar time',\n",
            "                           'Maximum': None,\n",
            "                           'Minimum': None,\n",
            "                           'Unit': 's'},\n",
            " 'weaSta_reaWeaSolZen_y': {'Description': 'Solar zenith angle measurement',\n",
            "                           'Maximum': None,\n",
            "                           'Minimum': None,\n",
            "                           'Unit': 'rad'},\n",
            " 'weaSta_reaWeaTBlaSky_y': {'Description': 'Black-body sky temperature '\n",
            "                                           'measurement',\n",
            "                            'Maximum': None,\n",
            "                            'Minimum': None,\n",
            "                            'Unit': 'K'},\n",
            " 'weaSta_reaWeaTDewPoi_y': {'Description': 'Dew point temperature measurement',\n",
            "                            'Maximum': None,\n",
            "                            'Minimum': None,\n",
            "                            'Unit': 'K'},\n",
            " 'weaSta_reaWeaTDryBul_y': {'Description': 'Outside drybulb temperature '\n",
            "                                           'measurement',\n",
            "                            'Maximum': None,\n",
            "                            'Minimum': None,\n",
            "                            'Unit': 'K'},\n",
            " 'weaSta_reaWeaTWetBul_y': {'Description': 'Wet bulb temperature measurement',\n",
            "                            'Maximum': None,\n",
            "                            'Minimum': None,\n",
            "                            'Unit': 'K'},\n",
            " 'weaSta_reaWeaWinDir_y': {'Description': 'Wind direction measurement',\n",
            "                           'Maximum': None,\n",
            "                           'Minimum': None,\n",
            "                           'Unit': 'rad'},\n",
            " 'weaSta_reaWeaWinSpe_y': {'Description': 'Wind speed measurement',\n",
            "                           'Maximum': None,\n",
            "                           'Minimum': None,\n",
            "                           'Unit': 'm/s'}}\n",
            "\n",
            "All forecasting variables\n",
            "-------------------------\n",
            "['winDir',\n",
            " 'TDewPoi',\n",
            " 'LowerSetp[1]',\n",
            " 'PriceElectricPowerConstant',\n",
            " 'UpperSetp[1]',\n",
            " 'PriceElectricPowerHighlyDynamic',\n",
            " 'solTim',\n",
            " 'solHouAng',\n",
            " 'nOpa',\n",
            " 'InternalGainsRad[1]',\n",
            " 'nTot',\n",
            " 'HGloHor',\n",
            " 'winSpe',\n",
            " 'TBlaSky',\n",
            " 'solDec',\n",
            " 'lon',\n",
            " 'PriceElectricPowerDynamic',\n",
            " 'HDifHor',\n",
            " 'InternalGainsCon[1]',\n",
            " 'solZen',\n",
            " 'HHorIR',\n",
            " 'relHum',\n",
            " 'pAtm',\n",
            " 'Occupancy[1]',\n",
            " 'ceiHei',\n",
            " 'lat',\n",
            " 'InternalGainsLat[1]',\n",
            " 'TWetBul',\n",
            " 'TDryBul',\n",
            " 'HDirNor',\n",
            " 'EmissionsElectricPower',\n",
            " 'cloTim',\n",
            " 'solAlt',\n",
            " 'UpperCO2[1]']\n",
            "\n",
            "All input variables\n",
            "-------------------\n",
            "{'oveFan_activate': {'Description': 'Activation for Integer signal to control '\n",
            "                                    'the heat pump evaporator fan either on or '\n",
            "                                    'off',\n",
            "                     'Maximum': None,\n",
            "                     'Minimum': None,\n",
            "                     'Unit': None},\n",
            " 'oveFan_u': {'Description': 'Integer signal to control the heat pump '\n",
            "                             'evaporator fan either on or off',\n",
            "              'Maximum': 1,\n",
            "              'Minimum': 0,\n",
            "              'Unit': '1'},\n",
            " 'oveHeaPumY_activate': {'Description': 'Activation for Heat pump modulating '\n",
            "                                        'signal for compressor speed between 0 '\n",
            "                                        '(not working) and 1 (working at '\n",
            "                                        'maximum capacity)',\n",
            "                         'Maximum': None,\n",
            "                         'Minimum': None,\n",
            "                         'Unit': None},\n",
            " 'oveHeaPumY_u': {'Description': 'Heat pump modulating signal for compressor '\n",
            "                                 'speed between 0 (not working) and 1 (working '\n",
            "                                 'at maximum capacity)',\n",
            "                  'Maximum': 1,\n",
            "                  'Minimum': 0,\n",
            "                  'Unit': '1'},\n",
            " 'ovePum_activate': {'Description': 'Activation for Integer signal to control '\n",
            "                                    'the emission circuit pump either on or '\n",
            "                                    'off',\n",
            "                     'Maximum': None,\n",
            "                     'Minimum': None,\n",
            "                     'Unit': None},\n",
            " 'ovePum_u': {'Description': 'Integer signal to control the emission circuit '\n",
            "                             'pump either on or off',\n",
            "              'Maximum': 1,\n",
            "              'Minimum': 0,\n",
            "              'Unit': '1'},\n",
            " 'oveTSet_activate': {'Description': 'Activation for Zone operative '\n",
            "                                     'temperature setpoint',\n",
            "                      'Maximum': None,\n",
            "                      'Minimum': None,\n",
            "                      'Unit': None},\n",
            " 'oveTSet_u': {'Description': 'Zone operative temperature setpoint',\n",
            "               'Maximum': 308.15,\n",
            "               'Minimum': 278.15,\n",
            "               'Unit': 'K'}}\n",
            "\n",
            "Default simulation step (seconds)\n",
            "---------------------------------\n",
            "3600\n",
            "\n",
            "Default scenario\n",
            "----------------\n",
            "{'electricity_price': 'constant'}\n",
            "\n",
            "Test case scenario\n",
            "------------------\n",
            "{'electricity_price': 'constant'}\n",
            "\n",
            "===========================\n",
            "GYM ENVIRONMENT INFORMATION\n",
            "===========================\n",
            "\n",
            "Observation space\n",
            "-----------------\n",
            "Box(280.0, 310.0, (1,), float32)\n",
            "\n",
            "Action space\n",
            "------------\n",
            "Box(0.0, 1.0, (1,), float32)\n",
            "\n",
            "Is a regressive environment\n",
            "---------------------------\n",
            "False\n",
            "\n",
            "Is a predictive environment\n",
            "---------------------------\n",
            "False\n",
            "\n",
            "Regressive period (seconds)\n",
            "---------------------------\n",
            "None\n",
            "\n",
            "Predictive period (seconds)\n",
            "---------------------------\n",
            "None\n",
            "\n",
            "Measurement variables used in observation space\n",
            "-----------------------------------------------\n",
            "['reaTZon_y']\n",
            "\n",
            "Predictive variables used in observation space\n",
            "----------------------------------------------\n",
            "[]\n",
            "\n",
            "Sampling time (seconds)\n",
            "-----------------------\n",
            "3600\n",
            "\n",
            "Random start time\n",
            "-----------------\n",
            "False\n",
            "\n",
            "Excluding periods (seconds from the beginning of the year)\n",
            "----------------------------------------------------------\n",
            "None\n",
            "\n",
            "Warmup period for each episode (seconds)\n",
            "----------------------------------------\n",
            "86400\n",
            "\n",
            "Maximum episode length (seconds)\n",
            "--------------------------------\n",
            "86400\n",
            "\n",
            "Environment reward function (source code)\n",
            "-----------------------------------------\n",
            "('    def get_reward(self):\\n'\n",
            " \"        '''\\n\"\n",
            " \"        Compute the reward of last state-action-state' tuple. The \\n\"\n",
            " '        reward is implemented as the negated increase in the objective\\n'\n",
            " '        integrand function. In turn, this objective integrand function \\n'\n",
            " '        is calculated as the sum of the total operational cost plus\\n'\n",
            " '        the weighted discomfort. \\n'\n",
            " '        \\n'\n",
            " '        Returns\\n'\n",
            " '        -------\\n'\n",
            " '        Reward: float\\n'\n",
            " \"            Reward of last state-action-state' tuple\\n\"\n",
            " '        \\n'\n",
            " '        Notes\\n'\n",
            " '        -----\\n'\n",
            " '        This method is just a default method to compute reward. It can be \\n'\n",
            " '        overridden by defining a child from this class with\\n'\n",
            " '        this same method name, i.e. `get_reward`. If a custom reward \\n'\n",
            " '        is defined, it is strongly recommended to derive it using the KPIs\\n'\n",
            " '        as returned from the BOPTEST framework, as it is done in this \\n'\n",
            " '        default `get_reward` method. This ensures that all variables \\n'\n",
            " '        that may contribute to any KPI are properly accounted and \\n'\n",
            " '        integrated. \\n'\n",
            " '        \\n'\n",
            " \"        '''\\n\"\n",
            " '        \\n'\n",
            " '        # Define a relative weight for the discomfort \\n'\n",
            " '        w = 1\\n'\n",
            " '        \\n'\n",
            " '        # Compute BOPTEST core kpis\\n'\n",
            " '        kpis = '\n",
            " \"requests.get('{0}/kpi/{1}'.format(self.url,self.testid)).json()['payload']\\n\"\n",
            " '        \\n'\n",
            " '        # Calculate objective integrand function at this point\\n'\n",
            " \"        objective_integrand = kpis['cost_tot'] + w*kpis['tdis_tot']\\n\"\n",
            " '        \\n'\n",
            " '        # Compute reward\\n'\n",
            " '        reward = -(objective_integrand - self.objective_integrand)\\n'\n",
            " '        \\n'\n",
            " '        self.objective_integrand = objective_integrand\\n'\n",
            " '        \\n'\n",
            " '        return reward\\n')\n",
            "\n",
            "Environment hierarchy\n",
            "---------------------\n",
            "(<class 'boptestGymEnv.BoptestGymEnv'>,\n",
            " <class 'gymnasium.core.Env'>,\n",
            " <class 'typing.Generic'>,\n",
            " <class 'object'>)\n",
            "\n",
            "\n"
          ]
        }
      ]
    },
    {
      "cell_type": "markdown",
      "source": [
        "Note that this descriptive summary provides information not only about the Gym environment but also all information about the original BOPTEST test case. This may be useful, for example, if we want to extend our observation space or if we want to change our control action."
      ],
      "metadata": {
        "id": "r-tJhLY8lF9F"
      }
    },
    {
      "cell_type": "markdown",
      "source": [
        "BOPTEST-Gym comes along with other functionality that may be useful when training RL agents, like the capacity to discretize and normalize observation and action spaces. For instance, we are dealing now with continuous action environment meaning that the agent could decide to take any action between 0 and 1. However, it is probably helpful to the agent to decide on just whether the heating needs to be turned on (action=1) or off (action=0). For that, we can wrap our environment around a discretization wrapper with only one action bin (one bin has two extremes).  The concept of wrappers is very powerful in Gym environments. With them, we are capable to customize observation, action, step function, etc. of an environment. No matter how many wrappers are applied, `env.unwrapped` always gives back the internal original environment object. Let's see how it works with BOPTEST-Gym:"
      ],
      "metadata": {
        "id": "Wr5rrfsFk947"
      }
    },
    {
      "cell_type": "code",
      "source": [
        "from boptestGymEnv import DiscretizedActionWrapper\n",
        "env = DiscretizedActionWrapper(env,n_bins_act=1)\n",
        "print('Action space of the wrapped agent:')\n",
        "print(env.action_space)\n",
        "print('Action space of the original agent:')\n",
        "print(env.unwrapped.action_space)"
      ],
      "metadata": {
        "id": "1hLg3lX8lHVG",
        "outputId": "70b4b9ab-1eb7-4cd1-bc58-129c789d2f1b",
        "colab": {
          "base_uri": "https://localhost:8080/"
        }
      },
      "execution_count": 29,
      "outputs": [
        {
          "output_type": "stream",
          "name": "stdout",
          "text": [
            "Action space of the wrapped agent:\n",
            "Discrete(2)\n",
            "Action space of the original agent:\n",
            "Box(0.0, 1.0, (1,), float32)\n"
          ]
        }
      ]
    },
    {
      "cell_type": "markdown",
      "source": [
        "Now we are going to stop the test case environment. Before so, could you implement a proportional controller as the one we used in \"Part 2\" but using the BOPTEST-Gym interface? I bet you can! 😀"
      ],
      "metadata": {
        "id": "Zt2Lxo2EabDL"
      }
    },
    {
      "cell_type": "code",
      "source": [],
      "metadata": {
        "id": "PrlbTy2Ra6_v"
      },
      "execution_count": null,
      "outputs": []
    },
    {
      "cell_type": "code",
      "source": [
        "env.stop()"
      ],
      "metadata": {
        "id": "VaNHponF_OMI"
      },
      "execution_count": 30,
      "outputs": []
    },
    {
      "cell_type": "markdown",
      "metadata": {
        "id": "KPuRmek6YmP7"
      },
      "source": [
        "---"
      ]
    },
    {
      "cell_type": "markdown",
      "metadata": {
        "id": "GMxKNcG9Xnf4"
      },
      "source": [
        "# **Part 4: Continued Usage and Wrap-Up**"
      ]
    },
    {
      "cell_type": "markdown",
      "metadata": {
        "id": "cM6SEb53Xvnp"
      },
      "source": [
        "Now that you've had some experience working with BOPTEST and BOPTEST-Gym, here are a few items to know for continuing to use them after the workshop.\n",
        "\n",
        "## Local Usage\n",
        "\n",
        "We have used a web-based version of BOPTEST for this workshop.  You may deploy and work with BOPTEST on your own computer too.  Directions are described in the [BOPTEST User Guide](https://ibpsa.github.io/project1-boptest/docs-userguide/index.html)."
      ]
    },
    {
      "cell_type": "markdown",
      "source": [
        "## Full tutorials\n"
      ],
      "metadata": {
        "id": "vWphWofnCU4s"
      }
    },
    {
      "cell_type": "markdown",
      "source": [
        "What we have seen here is just a summary of the full tutorials that we provide. You can find these through the following links:\n",
        "\n",
        "- [BOPTEST](https://github.com/ibpsa/project1-boptest/blob/master/docs/workshops/BS21Workshop_20210831/Introduction_to_the_BOPTEST_framework.ipynb)\n",
        "\n",
        "- [BOPTEST-Gym](https://github.com/ibpsa/project1-boptest-gym/blob/master/docs/tutorials/CCAI_Summer_School_2022/Building_Control_with_RL_using_BOPTEST.ipynb)\n",
        "\n"
      ],
      "metadata": {
        "id": "MMLi3w0mCeP7"
      }
    },
    {
      "cell_type": "markdown",
      "metadata": {
        "id": "zO59bCtGzcNp"
      },
      "source": [
        "## Feedback\n",
        "\n",
        "Thank you for attending this workshop and for your interest in BOPTEST!  We hope you have enjoyed working with the framework and will find it useful for your own work.  We would appreciate if you would provide your feedback on this workshop and BOPTEST in general using the following form:\n",
        "\n",
        "[Feedback Form](https://forms.gle/zVc1iqAyMT173H2p8)"
      ]
    }
  ],
  "metadata": {
    "colab": {
      "provenance": [],
      "toc_visible": true,
      "include_colab_link": true
    },
    "kernelspec": {
      "display_name": "Python 3",
      "name": "python3"
    },
    "language_info": {
      "name": "python"
    },
    "gpuClass": "standard"
  },
  "nbformat": 4,
  "nbformat_minor": 0
}